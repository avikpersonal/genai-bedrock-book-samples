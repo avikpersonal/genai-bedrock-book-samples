{
 "cells": [
  {
   "cell_type": "markdown",
   "id": "7ed3a60a-5001-46ff-ae70-61d861a00c53",
   "metadata": {
    "tags": []
   },
   "source": [
    "# File Name: simple_agent_building_testing.ipynb\n",
    "### Location: Chapter 9\n",
    "### Purpose: \n",
    "#####             1. Create the Amazon Bedrock Agent \n",
    "#####             2. Attached with Amazon Bedrock Knowledge Base\n",
    "#####             3. Test the agent\n",
    "#####             4. Clean up all the resources\n",
    "##### Dependency: simple_knwl_bases_building.ipynb at Chapter 9 should work properly. \n",
    "# <ins>-----------------------------------------------------------------------------------</ins>\n"
   ]
  },
  {
   "cell_type": "markdown",
   "id": "c99464e3-0679-4a67-bb38-8d96892eefa5",
   "metadata": {},
   "source": [
    "# <ins>Amazon SageMaker Classic</ins>\n",
    "#### Those who are new to Amazon SageMaker Classic. Follow the link for the details. https://docs.aws.amazon.com/sagemaker/latest/dg/studio.html"
   ]
  },
  {
   "cell_type": "markdown",
   "id": "91003ca1-0026-46eb-bd09-81861135cb22",
   "metadata": {},
   "source": [
    "# <ins>Environment setup of Kernel</ins>\n",
    "##### Fill \"Image\" as \"Data Science\"\n",
    "##### Fill \"Kernel\" as \"Python 3\"\n",
    "##### Fill \"Instance type\" as \"ml-t3-medium\"\n",
    "##### Fill \"Start-up script\" as \"No Scripts\"\n",
    "##### Click \"Select\"\n",
    "\n",
    "###### Refer https://docs.aws.amazon.com/sagemaker/latest/dg/notebooks-create-open.html for details."
   ]
  },
  {
   "cell_type": "markdown",
   "id": "c865b7f5-755a-498c-bff6-7647281b15b9",
   "metadata": {},
   "source": [
    "# <ins>Mandatory installation on the kernel through pip</ins>\n",
    "\n",
    "##### This lab will work with below software version. But, if you are trying with latest version of boto3, awscli, and botocore. This code may fail. You might need to change the corresponding api. \n",
    "\n",
    "##### You will see pip dependency errors. you can safely ignore these errors and continue executing rest of the cell. "
   ]
  },
  {
   "cell_type": "code",
   "execution_count": null,
   "id": "6ade0112-a4be-4ce8-be92-8cbf28b2acfa",
   "metadata": {
    "tags": []
   },
   "outputs": [],
   "source": [
    "%%time\n",
    "\n",
    "%pip install --no-build-isolation --force-reinstall -q \\\n",
    "    \"boto3>=1.34.84\" \\\n",
    "    \"opensearch-py>=2.7.1\" \\\n",
    "    \"retrying>=1.3.4\" \\\n",
    "    \"ragas\" \\\n",
    "    \"ipywidgets>=7.6.5\" \\\n",
    "    \"iprogress>=0.4\" \\\n",
    "    \"langchain>=0.2.16\" \\\n",
    "    \"langchain_community>=0.2.17\" \\\n",
    "    \"awscli>=1.32.84\" \\\n",
    "    \"botocore>=1.34.84\" \\\n",
    "    \"langchain-aws>=0.1.7\"    "
   ]
  },
  {
   "cell_type": "markdown",
   "id": "0c4e3b85-4e64-42ef-9355-ed2a61c68b23",
   "metadata": {},
   "source": [
    "# <ins>Disclaimer</ins>\n",
    "\n",
    "##### You will see pip dependency errors. you can safely ignore these errors and continue executing rest of the cell."
   ]
  },
  {
   "cell_type": "markdown",
   "id": "a88ee934-e99c-49ce-9e94-27ffc5baabe1",
   "metadata": {},
   "source": [
    "# <ins>Restart the kernel</ins>"
   ]
  },
  {
   "cell_type": "code",
   "execution_count": null,
   "id": "0aaf41bf-d2d2-46fa-b1d4-1dd19c45a069",
   "metadata": {
    "tags": []
   },
   "outputs": [],
   "source": [
    "# restart kernel\n",
    "from IPython.core.display import HTML\n",
    "HTML(\"<script>Jupyter.notebook.kernel.restart()</script>\")"
   ]
  },
  {
   "cell_type": "markdown",
   "id": "1e5af76d-b2a9-4740-b8bf-134932804719",
   "metadata": {},
   "source": [
    "# <ins>Python package import</ins>\n",
    "\n",
    "##### boto3 offers various clients for Amazon Bedrock to execute various actions.\n",
    "##### botocore is a low-level interface to AWS tools, while boto3 is built on top of botocore and provides additional features"
   ]
  },
  {
   "cell_type": "code",
   "execution_count": null,
   "id": "c7268959-6ef0-4cbd-bd53-3b31369b4513",
   "metadata": {
    "tags": []
   },
   "outputs": [],
   "source": [
    "import json\n",
    "import os\n",
    "import boto3\n",
    "import botocore\n",
    "import pprint\n",
    "import random\n",
    "from retrying import retry\n",
    "import warnings\n",
    "import time\n",
    "from opensearchpy import OpenSearch, RequestsHttpConnection, AWSV4SignerAuth, RequestError\n",
    "from botocore.exceptions import NoCredentialsError, PartialCredentialsError\n",
    "import pprint as pp\n",
    "from botocore.exceptions import BotoCoreError, ClientError\n",
    "from datasets import load_dataset\n",
    "from tqdm import tqdm\n",
    "import uuid"
   ]
  },
  {
   "cell_type": "markdown",
   "id": "b1d1b877-deab-4961-a249-7663e812fbb8",
   "metadata": {},
   "source": [
    "### Ignore warning "
   ]
  },
  {
   "cell_type": "code",
   "execution_count": null,
   "id": "71587271-9f02-46dc-9eaf-5a5291132f8f",
   "metadata": {
    "tags": []
   },
   "outputs": [],
   "source": [
    "warnings.filterwarnings('ignore')"
   ]
  },
  {
   "cell_type": "markdown",
   "id": "a2905611-5393-4609-8b33-8ea37b1a10c4",
   "metadata": {},
   "source": [
    "### %store magic command to retrive all the variable value from other notebook. \n",
    "### Here, simple_knwl_bases_building.ipynb"
   ]
  },
  {
   "cell_type": "code",
   "execution_count": null,
   "id": "137c6f02-a33a-4156-a2de-ccbc82ca1cd3",
   "metadata": {
    "tags": []
   },
   "outputs": [],
   "source": [
    "%store -r "
   ]
  },
  {
   "cell_type": "markdown",
   "id": "40b83ea1-9c4e-4ad2-9f83-4dfb0721a166",
   "metadata": {},
   "source": [
    "## Define important environment variable"
   ]
  },
  {
   "cell_type": "code",
   "execution_count": null,
   "id": "0ccf36a8-87e3-462a-9a13-4a286861c327",
   "metadata": {
    "tags": []
   },
   "outputs": [],
   "source": [
    "# Try-except block to handle potential errors\n",
    "try:\n",
    "    # Create a new Boto3 session to interact with AWS services\n",
    "    boto3_session_name = boto3.session.Session()\n",
    "\n",
    "    # Create a Bedrock Agent client using the current session and region\n",
    "    bedrock_agent_client = boto3_session_name.client('bedrock-agent', region_name=aws_region_name)\n",
    "    \n",
    "    # Create a Bedrock Agent runtime client using the current session and region\n",
    "    bedrock_agent_runtime_client = boto3_session_name.client('bedrock-agent-runtime', region_name=aws_region_name)\n",
    "\n",
    "    # Create an S3 client to interact with Amazon S3\n",
    "    s3_client = boto3.client('s3')\n",
    "\n",
    "    # Create an STS client to interact with AWS Security Token Service (STS)\n",
    "    sts_client = boto3.client('sts')\n",
    "\n",
    "    # PrettyPrinter instance for formatted output\n",
    "    pretty_printer = pprint.PrettyPrinter(indent=2)\n",
    "\n",
    "    # Create an OpenSearch Serverless (AOSS) client using the current session\n",
    "    aoss_client = boto3_session_name.client('opensearchserverless')\n",
    "    \n",
    "    # Create an lambda client\n",
    "    lambda_client = boto3.client('lambda')\n",
    "\n",
    "\n",
    "    # Create an IAM client to interact with Identity and Access Management (IAM) service\n",
    "    iam_client = boto3_session_name.client('iam')\n",
    "\n",
    "    # Retrieve the current AWS account number and ARN of the caller\n",
    "    sts_client = boto3.client('sts')\n",
    "    identity_arn = sts_client.get_caller_identity().get('Arn')\n",
    "    \n",
    "\n",
    "    # Embedding model ARN for Bedrock\n",
    "    embeddingModelArn = f\"arn:aws:bedrock:{aws_region_name}::foundation-model/amazon.titan-embed-text-v1\"\n",
    "    \n",
    "    # Defining information for the Amazon Bedrock agent responsible for video game parlour bookings\n",
    "    \n",
    "    bedrock_agent_name = 'video-game-parlour-bookings-agent'  # Name of the Bedrock agent\n",
    "    bedrock_agent_description = \"Agent in charge of managing video game parlour table slot bookings\"  # Description of the agent's role\n",
    "    bedrock_agent_instruction = \"\"\"\n",
    "    You are a video game parlour agent responsible for assisting customers with slot booking management. \n",
    "    Your tasks include providing information about available slots, creating new bookings, and canceling existing bookings upon request.\n",
    "    \"\"\"  # Instructions guiding the agent's tasks and responsibilities\n",
    "\n",
    "    bedrock_agent_action_group_description = \"\"\"\n",
    "    Actions to retrieve information about video game parlour slot bookings, create new bookings, or cancel existing bookings.\n",
    "    \"\"\"  # Description of actions that the agent can perform related to bookings\n",
    "\n",
    "    bedrock_agent_action_group_name = \"SlotBookingsActionGroup\"  # Name for the action group related to slot bookings\n",
    "\n",
    "    # Defining the DynamoDB table name. The table has already been created using an AWS CloudFormation template.\n",
    "    dynamodb_table_name = \"video-game-parlour-bookings\"  # DynamoDB table for storing booking information\n",
    "\n",
    "    # Creating a DynamoDB client to interact with Amazon DynamoDB for managing bookings\n",
    "    dynamodb_client = boto3.client('dynamodb')\n",
    "\n",
    "    # Defining the Lambda function name. This function has been created using an AWS CloudFormation template.\n",
    "    lambda_function_name = \"video-parlour-bookings-lambda\"  # Lambda function for processing bookings\n",
    "\n",
    "    # Specifying the Amazon Bedrock Foundation Model used for the agent's language processing\n",
    "    bedrock_llm_foundation_model = \"anthropic.claude-3-haiku-20240307-v1:0\"  # Model for language understanding and generation\n",
    "\n",
    "    \n",
    "    # Store all variables in a dictionary\n",
    "    variables_store = {\n",
    "        \"aws_region_name\": aws_region_name,\n",
    "        \"bedrock_agent_client\": bedrock_agent_client,\n",
    "        \"opensearch_service_name\": opensearch_service_name,\n",
    "        \"s3_client\": s3_client,\n",
    "        \"sts_client\": sts_client,\n",
    "        \"aws_account_id\": aws_account_id,\n",
    "        \"s3_suffix\": s3_suffix,\n",
    "        \"s3_bucket_name\": s3_bucket_name,\n",
    "        \"random_suffix\": random_suffix,\n",
    "        \"aoss_client\": aoss_client,\n",
    "        \"vector_store_name\": vector_store_name,\n",
    "        \"index_name\": index_name,\n",
    "        \"iam_client\": iam_client,\n",
    "        \"sts_client\": sts_client,\n",
    "        \"identity_arn\": identity_arn,\n",
    "        \"security_policy_name\": security_policy_name,\n",
    "        \"network_policy_name\": network_policy_name,\n",
    "        \"access_policy_name\": access_policy_name,\n",
    "        \"embeddingModelArn\": embeddingModelArn,\n",
    "        \"bedrock_knowledge_bases_name\": bedrock_knowledge_bases_name,\n",
    "        \"description\": description,\n",
    "        \"bedrock_agent_name\": bedrock_agent_name,\n",
    "        \"bedrock_agent_description\": bedrock_agent_description,\n",
    "        \"bedrock_agent_instruction\": bedrock_agent_instruction,\n",
    "        \"bedrock_agent_action_group_description\": bedrock_agent_action_group_description,\n",
    "        \"bedrock_agent_action_group_name\": bedrock_agent_action_group_name,\n",
    "        \"dynamodb_table_name\": dynamodb_table_name,\n",
    "        \"lambda_function_name\": lambda_function_name,\n",
    "        \"bedrock_llm_foundation_model\": bedrock_llm_foundation_model\n",
    "    }\n",
    "\n",
    "    # Print all variables\n",
    "    for var_name, value in variables_store.items():\n",
    "        print(f\"{var_name}: {value}\")\n",
    "\n",
    "except Exception as e:\n",
    "    print(f\"An unexpected error occurred: {e}\")\n"
   ]
  },
  {
   "cell_type": "markdown",
   "id": "c987c81e-4b95-408e-8b81-b4408e641339",
   "metadata": {},
   "source": [
    "# Create the Amazon Bedrock Agent\n",
    "\n",
    "    The code attempts to create a Bedrock agent using specified parameters such as name, role ARN, description, TTL, foundation model, and instructions"
   ]
  },
  {
   "cell_type": "code",
   "execution_count": null,
   "id": "0b059ced-6eb1-4e16-a987-4f02c491eee8",
   "metadata": {
    "tags": []
   },
   "outputs": [],
   "source": [
    "%%time\n",
    "\n",
    "try:\n",
    "    # Attempt to create the Bedrock agent\n",
    "    response = bedrock_agent_client.create_agent(\n",
    "        agentName=bedrock_agent_name,\n",
    "        agentResourceRoleArn=genaibookedbedrocksagemakerexecutionrolearn, \n",
    "        description=bedrock_agent_description,\n",
    "        idleSessionTTLInSeconds=1800,\n",
    "        foundationModel=bedrock_llm_foundation_model,\n",
    "        instruction=bedrock_agent_instruction,\n",
    "    )\n",
    "    \n",
    "    # Extract agent ID from the response\n",
    "    agent_id = response['agent']['agentId']\n",
    "    print(\"The agent id is:\", agent_id)\n",
    "\n",
    "except bedrock_agent_client.exceptions.ClientError as e:\n",
    "    # Handle client-side errors (e.g., invalid parameters)\n",
    "    print(f\"An error occurred while creating the agent: {e}\")\n",
    "\n",
    "except KeyError as e:\n",
    "    # Handle missing keys in the response (e.g., 'agentId' not found)\n",
    "    print(f\"Error extracting agent ID from response: {e}\")\n",
    "\n",
    "except Exception as e:\n",
    "    # Catch any other unexpected errors\n",
    "    print(f\"An unexpected error occurred: {e}\")"
   ]
  },
  {
   "cell_type": "markdown",
   "id": "2bee233e-8c20-4373-b57e-ef57bc40e708",
   "metadata": {
    "tags": []
   },
   "source": [
    "# Defining Amazon Bedrock Agent functions. This should be based on Amazon Lambda function lambda_function_name: video-parlour-bookings-lambda"
   ]
  },
  {
   "cell_type": "code",
   "execution_count": null,
   "id": "f4a7b7a2-1b7f-4082-aba0-cf50c261c306",
   "metadata": {
    "tags": []
   },
   "outputs": [],
   "source": [
    "bedrock_agent_functions = [\n",
    "    {\n",
    "        'name': 'get_slot_booking_details',\n",
    "        'description': 'Retrieve details of a video game parlour slot booking',\n",
    "        'parameters': {\n",
    "            \"slot_booking_id\": {\n",
    "                \"description\": \"The ID of the slot booking to retrieve\",\n",
    "                \"required\": True,\n",
    "                \"type\": \"string\"\n",
    "            }\n",
    "        }\n",
    "    },\n",
    "    {\n",
    "        'name': 'create_slot_booking',\n",
    "        'description': 'Create a new video game parlour slot booking',\n",
    "        'parameters': {\n",
    "            \"date\": {\n",
    "                \"description\": \"The date of the slot booking in the format YYYY-MM-DD\",\n",
    "                \"required\": True,\n",
    "                \"type\": \"string\"\n",
    "            },\n",
    "            \"name\": {\n",
    "                \"description\": \"Name to person your booking slot\",\n",
    "                \"required\": True,\n",
    "                \"type\": \"string\"\n",
    "            },\n",
    "            \"hour\": {\n",
    "                \"description\": \"The hour of the slot booking in the format  HH:MM\",\n",
    "                \"required\": True,\n",
    "                \"type\": \"string\"\n",
    "            },\n",
    "            \"num_guests\": {\n",
    "                \"description\": \"The number of guests for the slot booking\",\n",
    "                \"required\": True,\n",
    "                \"type\": \"integer\"\n",
    "            }\n",
    "        }\n",
    "    },\n",
    "    {\n",
    "        'name': 'cancel_slot_booking',\n",
    "        'description': 'Cancel an existing video game parlour slot booking',\n",
    "        'parameters': {\n",
    "            \"slot_booking_id\": {\n",
    "                \"description\": \"The slot booking id to cancel\",\n",
    "                \"required\": True,\n",
    "                \"type\": \"string\"\n",
    "            }\n",
    "        }\n",
    "    },\n",
    "]"
   ]
  },
  {
   "cell_type": "markdown",
   "id": "1ac28187-7603-4e86-abdd-302500668f3d",
   "metadata": {},
   "source": [
    "# Find out AWS Lambda function Arn"
   ]
  },
  {
   "cell_type": "code",
   "execution_count": null,
   "id": "72164b43-b394-4fae-92af-4169010d7423",
   "metadata": {
    "tags": []
   },
   "outputs": [],
   "source": [
    "%%time\n",
    "\n",
    "try:\n",
    "    # Get the Lambda function details using the function name\n",
    "    response = lambda_client.get_function(FunctionName=lambda_function_name)\n",
    "\n",
    "    # Extract the ARN from the response\n",
    "    lambda_function_arn = response['Configuration']['FunctionArn']\n",
    "\n",
    "    # Print the Lambda function ARN\n",
    "    print(f\"The ARN of the Lambda function is: {lambda_function_arn}\")\n",
    "\n",
    "except lambda_client.exceptions.ResourceNotFoundException:\n",
    "    print(f\"Lambda function '{lambda_function_name}' not found.\")\n",
    "except Exception as e:\n",
    "    print(f\"An error occurred: {e}\")"
   ]
  },
  {
   "cell_type": "markdown",
   "id": "71ed2b9a-b51e-4458-b193-4080e4b5e9c9",
   "metadata": {},
   "source": [
    "# Provide the invoke permission\n",
    "\n",
    "#### The provided Python code dynamically creates a source ARN for a Bedrock agent and attempts to add a permission to a Lambda function, allowing the Bedrock agent to invoke it.\n",
    "\n",
    "### Disclaimer: This step can give you error if you are executing twice. You can ignore that. "
   ]
  },
  {
   "cell_type": "code",
   "execution_count": null,
   "id": "cfa10693-eb70-4b18-8f3c-a6a034bcb090",
   "metadata": {
    "tags": []
   },
   "outputs": [],
   "source": [
    "%%time\n",
    "\n",
    "# Parameters\n",
    "random_number = random.randrange(200, 900)\n",
    "bedrock_principal = 'bedrock.amazonaws.com'\n",
    "bedrock_lambda_statement_id = f\"allow-bedrock-agent-invoke-{random_number}\"\n",
    "# Create the source ARN dynamically\n",
    "source_arn = f'arn:aws:bedrock:{aws_region_name}:{aws_account_id}:agent/{agent_id}'\n",
    "\n",
    "try:\n",
    "    # Add permission to invoke Lambda function\n",
    "    response = lambda_client.add_permission(\n",
    "        FunctionName=lambda_function_name,\n",
    "        Principal=bedrock_principal,\n",
    "        StatementId=bedrock_lambda_statement_id,\n",
    "        Action='lambda:InvokeFunction',\n",
    "        SourceArn=source_arn\n",
    "    )\n",
    "\n",
    "    # Log the successful response\n",
    "    print(f\"Successfully added permission: {response}\")\n",
    "    \n",
    "except lambda_client.exceptions.ResourceConflictException as e:\n",
    "    # Handle case where the permission already exists\n",
    "    print(f\"Permission already exists: {e}\")\n",
    "except lambda_client.exceptions.InvalidPermissionValueException as e:\n",
    "    # Handle invalid permission value error\n",
    "    print(f\"Invalid permission value: {e}\")\n",
    "except Exception as e:\n",
    "    # Handle any other exception\n",
    "    print(f\"Unexpected error occurred: {e}\")"
   ]
  },
  {
   "cell_type": "markdown",
   "id": "5b4eabb0-6837-457b-a0f4-b3628c191132",
   "metadata": {},
   "source": [
    "# Create Amazon Bedrock Agent Action Group\n",
    "\n",
    "### The code attempts to create an action group for a Bedrock agent. It includes a 30-second pause to ensure the agent is provisioned before initiating the action group creation. The create_agent_action_group method uses a Lambda function as an executor, specifies a schema of functions, and includes a descriptive name and description."
   ]
  },
  {
   "cell_type": "code",
   "execution_count": null,
   "id": "4467cfef-cd32-4e87-a4c5-21b16213ca94",
   "metadata": {
    "tags": []
   },
   "outputs": [],
   "source": [
    "%%time\n",
    "\n",
    "try:\n",
    "    # Pause to ensure the agent is created\n",
    "    time.sleep(30)  # You can adjust this based on your agent's provisioning time\n",
    "\n",
    "    # Now, create the agent action group\n",
    "    bedrock_agent_action_group_response = bedrock_agent_client.create_agent_action_group(\n",
    "        agentId=agent_id,\n",
    "        agentVersion='DRAFT',  # You can use 'DRAFT' or another version as appropriate\n",
    "        actionGroupExecutor={\n",
    "            'lambda': lambda_function_arn\n",
    "        },\n",
    "        actionGroupName=bedrock_agent_action_group_name,\n",
    "        functionSchema={\n",
    "            'functions': bedrock_agent_functions\n",
    "        },\n",
    "        description=bedrock_agent_action_group_description\n",
    "    )\n",
    "\n",
    "    # If the action group is created successfully, print the response\n",
    "    print(\"Action Group Created Successfully:\")\n",
    "    print(bedrock_agent_action_group_response)\n",
    "\n",
    "except bedrock_agent_client.exceptions.ClientError as e:\n",
    "    # Handle client errors (e.g., invalid request, AWS service errors)\n",
    "    print(f\"An error occurred while creating the agent action group: {e}\")\n",
    "    # Optionally, you can log the error for further debugging\n",
    "except Exception as e:\n",
    "    # Handle any other unexpected errors\n",
    "    print(f\"An unexpected error occurred: {e}\")\n",
    "    # Optionally, you can log the error for further debugging"
   ]
  },
  {
   "cell_type": "markdown",
   "id": "a96fac50-ff9c-4eff-a231-7f88cf854572",
   "metadata": {},
   "source": [
    "# Prepare the Amazon Bedrock agent and check the status to \"PREPARED\" "
   ]
  },
  {
   "cell_type": "markdown",
   "id": "1f53d45e-404f-4621-987a-ea06f748d7e6",
   "metadata": {},
   "source": [
    "##### This script facilitates the preparation and status monitoring of a Bedrock agent through two key functions. The check_agent_status function retrieves the current status of the agent using bedrock_agent_client.get_agent, and returning the status. The prepare_agent function initiates the preparation process with bedrock_agent_client.prepare_agent and employs a polling mechanism, repeatedly checking the agent's status every 30 seconds until it reaches the PREPARED state, while providing progress updates."
   ]
  },
  {
   "cell_type": "code",
   "execution_count": null,
   "id": "0a37eff1-8ad6-4308-bd93-61f5f70c1cae",
   "metadata": {
    "tags": []
   },
   "outputs": [],
   "source": [
    "%%time\n",
    "\n",
    "# Function to check the agent status\n",
    "def check_agent_status(agent_id):\n",
    "    try:\n",
    "        # Attempt to retrieve the agent's status\n",
    "        response = bedrock_agent_client.get_agent(agentId=agent_id)\n",
    "        \n",
    "        # Extract the current status from the response\n",
    "        agent_status = response['agent']['agentStatus']\n",
    "        print(f\"Current agent status: {agent_status}\")\n",
    "        \n",
    "        return agent_status\n",
    "    except ClientError as e:\n",
    "        print(f\"Error retrieving agent status: {e}\")\n",
    "        return None\n",
    "\n",
    "# Function to prepare the agent\n",
    "def prepare_agent(agent_id):\n",
    "    try:\n",
    "        # Prepare the agent\n",
    "        response = bedrock_agent_client.prepare_agent(agentId=agent_id)\n",
    "        print(\"Agent preparation initiated:\", response)\n",
    "        \n",
    "        # Pause for 30 seconds to ensure the agent is being prepared\n",
    "        time.sleep(30)\n",
    "\n",
    "        # Loop until the agent status is 'PREPARED'\n",
    "        while True:\n",
    "            agent_status = check_agent_status(agent_id)\n",
    "            \n",
    "            # If the agent status is 'PREPARED', break out of the loop\n",
    "            if agent_status == 'PREPARED':\n",
    "                print(\"Agent is prepared and ready!\")\n",
    "                break\n",
    "            else:\n",
    "                # Pause for 30 seconds before checking the status again\n",
    "                print(\"Agent is not prepared yet. Waiting...\")\n",
    "                time.sleep(30)\n",
    "    \n",
    "    except ClientError as e:\n",
    "        print(f\"Error preparing agent: {e}\")\n",
    "\n",
    "# Call the prepare_agent function\n",
    "prepare_agent(agent_id)"
   ]
  },
  {
   "cell_type": "markdown",
   "id": "97deb32a-983a-4c97-aea2-cda3870bc3a5",
   "metadata": {},
   "source": [
    "# This code snippet demonstrates associating a Bedrock agent with a knowledge base"
   ]
  },
  {
   "cell_type": "code",
   "execution_count": null,
   "id": "6edc664f-d3cf-4a51-a45a-fb0427d7e466",
   "metadata": {
    "tags": []
   },
   "outputs": [],
   "source": [
    "%%time\n",
    "\n",
    "try:\n",
    "        # Making the API call to associate the agent with the knowledge base\n",
    "        response = bedrock_agent_client.associate_agent_knowledge_base(\n",
    "            agentId=agent_id,\n",
    "            agentVersion='DRAFT',\n",
    "            description='Access the knowledge base when customers ask about the plates in the menu.',\n",
    "            knowledgeBaseId=knowledgeBaseId,  # Specify the knowledge base ID\n",
    "            knowledgeBaseState='ENABLED'    # Set the knowledge base state as ENABLED\n",
    "        )\n",
    "\n",
    "        # Log the successful response\n",
    "        print(f\"Knowledge base successfully associated with agent. Response: {response}\")\n",
    "\n",
    "except bedrock_agent_client.exceptions.ResourceNotFoundException as e:\n",
    "    # Handle the case when the resource is not found (e.g., agent or knowledge base)\n",
    "    logger.error(f\"Resource not found: {e}\")\n",
    "    raise\n",
    "\n",
    "except bedrock_agent_client.exceptions.InvalidInputException as e:\n",
    "    # Handle the case when the input parameters are invalid\n",
    "    logger.error(f\"Invalid input: {e}\")\n",
    "    raise\n",
    "\n",
    "except Exception as e:\n",
    "    # Catch any other exceptions and log them\n",
    "    logger.error(f\"Unexpected error occurred while associating agent with knowledge base: {str(e)}\")\n",
    "    raise\n"
   ]
  },
  {
   "cell_type": "markdown",
   "id": "a51d70ac-3552-4aa7-b8f9-96aa7987dd7e",
   "metadata": {},
   "source": [
    "## The get_agent_responses function is designed to invoke a Bedrock agent with a query and session information, handle its responses, and manage session states."
   ]
  },
  {
   "cell_type": "code",
   "execution_count": null,
   "id": "5210ee47-0468-429f-8a8a-7c897aaa7f49",
   "metadata": {
    "tags": []
   },
   "outputs": [],
   "source": [
    "%%time\n",
    "\n",
    "def get_agent_responses(query, session_id, agent_id, alias_id, enable_trace=False, session_state=None):\n",
    "    \"\"\"\n",
    "    Function to invoke an agent with the provided query and session information.\n",
    "\n",
    "    Parameters:\n",
    "        query (str): The input text/query to send to the agent.\n",
    "        session_id (str): The unique identifier for the session.\n",
    "        agent_id (str): The unique identifier for the agent.\n",
    "        alias_id (str): The alias ID for the agent.\n",
    "        session_state (dict): Optional session state to maintain between requests.\n",
    "\n",
    "    \"\"\"\n",
    "    # Default session_state to an empty dictionary if not provided\n",
    "    if not session_state:\n",
    "        session_state = {}\n",
    "\n",
    "    # Flag to indicate whether the session should end\n",
    "    end_session = False\n",
    "\n",
    "    try:\n",
    "        # Invoke the agent API\n",
    "        agent_response = bedrock_agent_runtime_client.invoke_agent(\n",
    "            inputText=query,\n",
    "            agentId=agent_id,\n",
    "            agentAliasId=alias_id,\n",
    "            sessionId=session_id,\n",
    "            enableTrace=enable_trace,\n",
    "            endSession=end_session,\n",
    "            sessionState=session_state\n",
    "        )\n",
    "        \n",
    "        completion = \"\"\n",
    "\n",
    "        for event in agent_response.get(\"completion\"):\n",
    "            chunk = event[\"chunk\"]\n",
    "            completion = completion + chunk[\"bytes\"].decode()\n",
    "            \n",
    "        print(completion)\n",
    "\n",
    "    except ValueError as ve:\n",
    "        # Log specific error for unexpected event type and raise it\n",
    "        print(f\"Error occurred: {ve}\")\n",
    "        raise\n",
    "\n",
    "    except Exception as e:\n",
    "        # Log any other general exception and raise it\n",
    "        print(f\"Unexpected error occurred: {str(e)}\")\n",
    "        raise Exception(\"Unexpected error while invoking agent.\", e)\n"
   ]
  },
  {
   "cell_type": "markdown",
   "id": "dc3b829f-0779-4113-a6fd-f8d8e1be69a7",
   "metadata": {},
   "source": [
    "# Create alias for Amazon Bedrock Agent "
   ]
  },
  {
   "cell_type": "code",
   "execution_count": null,
   "id": "b41c51e9-8932-48ea-b101-d3150c9f075a",
   "metadata": {
    "tags": []
   },
   "outputs": [],
   "source": [
    "%%time\n",
    "\n",
    "try:\n",
    "    # Define alias name and description\n",
    "    bedrock_alias_name = 'video-game-parlour-bookings-alias'\n",
    "    bedrock_alias_description = 'video game parlour bookings agent alias'\n",
    "\n",
    "    # Attempt to create the agent alias\n",
    "    response = bedrock_agent_client.create_agent_alias(\n",
    "        agentAliasName=bedrock_alias_name,\n",
    "        agentId=agent_id,\n",
    "        description=bedrock_alias_description\n",
    "    )\n",
    "\n",
    "    # Print the successful response\n",
    "    print(f\"Agent alias created successfully: {response}\")\n",
    "    \n",
    "    alias_id = response[\"agentAlias\"][\"agentAliasId\"]\n",
    "\n",
    "except bedrock_agent_client.exceptions.ResourceNotFoundException as e:\n",
    "    # Handle the case where the specified agent does not exist\n",
    "    print(f\"Error: Agent not found for the given agent ID: {e}\")\n",
    "\n",
    "except bedrock_agent_client.exceptions.InvalidInputException as e:\n",
    "    # Handle invalid input errors (e.g., malformed alias name or missing fields)\n",
    "    print(f\"Error: Invalid input provided while creating alias: {e}\")\n",
    "\n",
    "except bedrock_agent_client.exceptions.ResourceConflictException as e:\n",
    "    # Handle the case where an alias with the same name already exists\n",
    "    print(f\"Error: Alias with the name '{bedrock_alias_name}' already exists: {e}\")\n",
    "\n",
    "except Exception as e:\n",
    "    # Catch and handle any other unexpected errors\n",
    "    print(f\"An unexpected error occurred while creating the agent alias: {str(e)}\")\n",
    "    raise"
   ]
  },
  {
   "cell_type": "markdown",
   "id": "1418f1aa-6ff6-4cbc-90c0-4a9718c5bb6d",
   "metadata": {},
   "source": [
    "# Test the Amazon Bedrock Agent"
   ]
  },
  {
   "cell_type": "markdown",
   "id": "0d0b5cbb-c550-4cf0-bb7e-6f3047b52f0e",
   "metadata": {},
   "source": [
    "#### Use case 1: Retriving information about Video Game parlour from knowledge Base information with in a session and agent identity"
   ]
  },
  {
   "cell_type": "code",
   "execution_count": null,
   "id": "87f44048-b4cb-48ea-9cbc-824d22ac32ef",
   "metadata": {
    "tags": []
   },
   "outputs": [],
   "source": [
    "session_id:str = str(uuid.uuid1())\n",
    "agent_identity = \"Mr X\""
   ]
  },
  {
   "cell_type": "code",
   "execution_count": null,
   "id": "c177b85e-bfd5-4520-9d84-41eaaeb919a1",
   "metadata": {
    "tags": []
   },
   "outputs": [],
   "source": [
    "%%time \n",
    "\n",
    "try:\n",
    "    # Define the query and session state\n",
    "    query = \"Suggest a game with Solve puzzles from a virtual reality prison.\"\n",
    "    session_state = {\n",
    "        \"promptSessionAttributes\": {\n",
    "            \"name\": agent_identity\n",
    "        }\n",
    "    }\n",
    "\n",
    "    # Invoke the function to get agent responses\n",
    "    response = get_agent_responses(query, session_id, agent_id, alias_id, session_state=session_state)\n",
    "    print(\"\\n\\n\")\n",
    "\n",
    "except ValueError as ve:\n",
    "    # Handle ValueError if something is wrong with the input or response data\n",
    "    print(f\"ValueError occurred: {ve}\")\n",
    "\n",
    "except KeyError as ke:\n",
    "    # Handle KeyError if required keys are missing in the response\n",
    "    print(f\"KeyError occurred: {ke}\")\n",
    "\n",
    "except bedrock_agent_runtime_client.exceptions.ClientError as ce:\n",
    "    # Handle client-specific errors (e.g., invalid agent, alias, or session IDs)\n",
    "    print(f\"ClientError occurred: {ce}\")\n",
    "\n",
    "except Exception as e:\n",
    "    # Catch and handle any other unexpected errors\n",
    "    print(f\"An unexpected error occurred: {str(e)}\")\n",
    "    raise"
   ]
  },
  {
   "cell_type": "markdown",
   "id": "51791744-d3ec-413d-9d11-01aeee55eda7",
   "metadata": {},
   "source": [
    "#### Use case 2: Video Game parlour slot booking with in a session and agent identity"
   ]
  },
  {
   "cell_type": "code",
   "execution_count": null,
   "id": "1dc46bc3-fbb3-4f6d-9126-f9bd4609c9e2",
   "metadata": {
    "tags": []
   },
   "outputs": [],
   "source": [
    "%%time \n",
    "\n",
    "try:\n",
    "    # Define the query and session state\n",
    "    query = \"I want to create a slot booking for 2 guests, at 8pm on the 6th of May 2024.\"\n",
    "    session_state = {\n",
    "        \"promptSessionAttributes\": {\n",
    "            \"name\": agent_identity\n",
    "        }\n",
    "    }\n",
    "\n",
    "    # Invoke the function to get the agent's response\n",
    "    response = get_agent_responses(query, session_id, agent_id, alias_id, session_state=session_state)\n",
    "    print(\"\\n\\n\")\n",
    "\n",
    "except ValueError as ve:\n",
    "    # Handle ValueError for input/output issues\n",
    "    print(f\"ValueError occurred: {ve}\")\n",
    "\n",
    "except KeyError as ke:\n",
    "    # Handle KeyError for missing keys in the response\n",
    "    print(f\"KeyError occurred: {ke}\")\n",
    "\n",
    "except bedrock_agent_runtime_client.exceptions.ClientError as ce:\n",
    "    # Handle client-specific errors (e.g., invalid session, alias, or agent)\n",
    "    print(f\"ClientError occurred: {ce}\")\n",
    "\n",
    "except Exception as e:\n",
    "    # Handle unexpected errors\n",
    "    print(f\"An unexpected error occurred: {str(e)}\")\n",
    "    raise\n"
   ]
  },
  {
   "cell_type": "markdown",
   "id": "07bf0da7-b932-416a-9421-508a97d188b5",
   "metadata": {},
   "source": [
    "#### Use case 3: Video Game parlour slot booking enquiry in a session and agent identity"
   ]
  },
  {
   "cell_type": "code",
   "execution_count": null,
   "id": "a224efb9-4d18-4f6c-9b25-4e624979c452",
   "metadata": {
    "tags": []
   },
   "outputs": [],
   "source": [
    "## provide this value from the result of above execution \n",
    "slot_booking_id = \"<PROVIDE THE SLOT BOOKING ID HERE FROM ABOVE>\""
   ]
  },
  {
   "cell_type": "code",
   "execution_count": null,
   "id": "7ef6777d-18e2-49cd-b423-ea5100d5f77e",
   "metadata": {
    "tags": []
   },
   "outputs": [],
   "source": [
    "%%time\n",
    "\n",
    "try:\n",
    "    # Define the query to check for a slot booking\n",
    "    query = f\"Hi, Do I have any slot booking with Id {slot_booking_id}?\"\n",
    "    \n",
    "    # Define the session state\n",
    "    session_state = {\n",
    "        \"promptSessionAttributes\": {\n",
    "            \"name\": agent_identity  # Make sure agent_identity is defined earlier\n",
    "        }\n",
    "    }\n",
    "    \n",
    "    # Call the function to get the agent's response\n",
    "    response = get_agent_responses(query, session_id, agent_id, alias_id, session_state=session_state)\n",
    "    print(\"\\n\\n\")\n",
    "\n",
    "except ValueError as ve:\n",
    "    # Handle ValueError for invalid response data\n",
    "    print(f\"ValueError occurred: {ve}\")\n",
    "\n",
    "except KeyError as ke:\n",
    "    # Handle KeyError for missing keys in the response\n",
    "    print(f\"KeyError occurred: {ke}\")\n",
    "\n",
    "except bedrock_agent_runtime_client.exceptions.ClientError as ce:\n",
    "    # Handle client-specific errors (e.g., issues with the agent, session, or alias)\n",
    "    print(f\"ClientError occurred: {ce}\")\n",
    "\n",
    "except Exception as e:\n",
    "    # Catch all other unexpected exceptions\n",
    "    print(f\"An unexpected error occurred: {str(e)}\")\n",
    "    raise"
   ]
  },
  {
   "cell_type": "markdown",
   "id": "1d63f03d-e5e4-4133-80b4-4d8700cac241",
   "metadata": {},
   "source": [
    "#### Use case 4: Video Game parlour slot booking cancel in a session and agent identity"
   ]
  },
  {
   "cell_type": "code",
   "execution_count": null,
   "id": "dd5cccbf-cd12-4e3b-906b-d76c2467dafd",
   "metadata": {
    "tags": []
   },
   "outputs": [],
   "source": [
    "%%time\n",
    "\n",
    "try:\n",
    "    \n",
    "    # Dynamically format the query to cancel the slot booking\n",
    "    query = f\"Hi, I want to cancel the slot booking with Id {slot_booking_id}.\"\n",
    "    \n",
    "    # Define the session state\n",
    "    session_state = {\n",
    "        \"promptSessionAttributes\": {\n",
    "            \"name\": agent_identity  # Make sure agent_identity is defined earlier\n",
    "        }\n",
    "    }\n",
    "    \n",
    "    # Call the function to get the agent's response\n",
    "    response = get_agent_responses(query, session_id, agent_id, alias_id, session_state=session_state)\n",
    "    print(\"\\n\\n\")\n",
    "\n",
    "except ValueError as ve:\n",
    "    # Handle ValueError for invalid response data\n",
    "    print(f\"ValueError occurred: {ve}\")\n",
    "\n",
    "except KeyError as ke:\n",
    "    # Handle KeyError for missing keys in the response\n",
    "    print(f\"KeyError occurred: {ke}\")\n",
    "\n",
    "except bedrock_agent_runtime_client.exceptions.ClientError as ce:\n",
    "    # Handle client-specific errors (e.g., issues with the agent, session, or alias)\n",
    "    print(f\"ClientError occurred: {ce}\")\n",
    "\n",
    "except Exception as e:\n",
    "    # Catch all other unexpected exceptions\n",
    "    print(f\"An unexpected error occurred: {str(e)}\")\n",
    "    raise"
   ]
  },
  {
   "cell_type": "markdown",
   "id": "d1b411ca-49b7-4c17-b19c-d9ff00d26b60",
   "metadata": {},
   "source": [
    "# End of NoteBook \n",
    "\n",
    "#### <ins>Step 1</ins> \n",
    "\n",
    "##### Please ensure that you close the kernel after using this notebook to avoid any potential charges to your account.\n",
    "\n",
    "##### Process: Go to \"Kernel\" at top option. Choose \"Shut Down Kernel\". \n",
    "##### Refer https://docs.aws.amazon.com/sagemaker/latest/dg/studio-ui.html\n",
    "\n",
    "\n",
    "#### <ins>Step 2</ins> \n",
    "\n",
    "#### If you are not executing any further lab of this Chapter 9\n",
    "##### uncommet and execute all the below code. "
   ]
  },
  {
   "cell_type": "markdown",
   "id": "d62d55a8-7752-479a-852a-268d7778f3b7",
   "metadata": {},
   "source": [
    "# Delete Amazon Bedrock Knowledge Bases and corresponding data sources\n",
    "\n",
    "##### This code effectively manages the process of listing and deleting all data sources associated with a specified KnowledgeBase in Bedrock."
   ]
  },
  {
   "cell_type": "code",
   "execution_count": null,
   "id": "7b02ce04-1f01-457a-9e47-b2ec267151e9",
   "metadata": {
    "tags": []
   },
   "outputs": [],
   "source": [
    "'''%%time \n",
    "\n",
    "def list_data_sources(client, knowledge_base_id):\n",
    "    \"\"\"\n",
    "    Fetch the data sources associated with the given KnowledgeBase.\n",
    "    \n",
    "    Parameters:\n",
    "    - client: Bedrock client instance\n",
    "    - knowledge_base_id: The ID of the KnowledgeBase\n",
    "    \n",
    "    Returns:\n",
    "    - A list of data sources summaries or None if an error occurs.\n",
    "    \"\"\"\n",
    "    try:\n",
    "        response = client.list_data_sources(knowledgeBaseId=knowledge_base_id)\n",
    "        data_sources_list = response.get('dataSourceSummaries', [])\n",
    "        print(f\"Successfully retrieved {len(data_sources_list)} data source(s).\")\n",
    "        return data_sources_list\n",
    "    except Exception as e:\n",
    "        print(f\"Error listing data sources: {e}\")\n",
    "        return None\n",
    "\n",
    "def delete_data_source(client, data_source_id, knowledge_base_id):\n",
    "    \"\"\"\n",
    "    Delete a specific data source from the KnowledgeBase.\n",
    "    \n",
    "    Parameters:\n",
    "    - client: Bedrock client instance\n",
    "    - data_source_id: The ID of the data source to delete\n",
    "    - knowledge_base_id: The ID of the KnowledgeBase\n",
    "    \n",
    "    Returns:\n",
    "    - True if deletion was successful, False otherwise.\n",
    "    \"\"\"\n",
    "    try:\n",
    "        client.delete_data_source(dataSourceId=data_source_id, knowledgeBaseId=knowledge_base_id)\n",
    "        print(f\"Successfully deleted data source: {data_source_id}\")\n",
    "        return True\n",
    "    except Exception as e:\n",
    "        print(f\"Error deleting data source {data_source_id}: {e}\")\n",
    "        return False\n",
    "\n",
    "def delete_all_data_sources(client, knowledge_base_id):\n",
    "    \"\"\"\n",
    "    Delete all data sources associated with the specified KnowledgeBase.\n",
    "    \n",
    "    Parameters:\n",
    "    - client: Bedrock client instance\n",
    "    - knowledge_base_id: The ID of the KnowledgeBase\n",
    "    \"\"\"\n",
    "    # Step 1: List all data sources\n",
    "    data_sources_list = list_data_sources(client, knowledge_base_id)\n",
    "    if data_sources_list is None:\n",
    "        return  # Exit if listing data sources failed\n",
    "\n",
    "    # Step 2: Delete each data source\n",
    "    for idx, ds in enumerate(data_sources_list):\n",
    "        data_source_id = ds.get(\"dataSourceId\")\n",
    "        kb_id = ds.get(\"knowledgeBaseId\")\n",
    "\n",
    "        # Deleting the data source\n",
    "        if delete_data_source(client, data_source_id, kb_id):\n",
    "            # Wait for 10 seconds between each deletion to avoid rate limiting issues\n",
    "            time.sleep(10)\n",
    "\n",
    "# Assuming `bedrock_agent_client` and `knowledgeBaseId` are initialized\n",
    "delete_all_data_sources(bedrock_agent_client, knowledgeBaseId)'''"
   ]
  },
  {
   "cell_type": "markdown",
   "id": "8b3e8849-0369-424b-a6f7-18e0f5db5065",
   "metadata": {},
   "source": [
    "# Delete Amazon OpenSearch serverless Collection using its ARN "
   ]
  },
  {
   "cell_type": "code",
   "execution_count": null,
   "id": "f0f817ca-9ddb-4501-8b9a-da241f7529a9",
   "metadata": {
    "tags": []
   },
   "outputs": [],
   "source": [
    "'''%%time \n",
    "\n",
    "def extract_collection_id_from_arn(arn):\n",
    "    \"\"\"Extracts the collection ID from the OpenSearch Serverless ARN.\"\"\"\n",
    "    try:\n",
    "        # The collection ID is the last segment after the \"/\" in the ARN\n",
    "        collection_id = arn.split(\"/\")[-1]\n",
    "        return collection_id\n",
    "    except Exception as e:\n",
    "        print(f\"Error extracting collection ID from ARN: {e}\")\n",
    "        return None\n",
    "\n",
    "def delete_opensearch_collection(aoss_client, collection_arn):\n",
    "    \"\"\"Deletes an OpenSearch Serverless collection using its ARN.\"\"\"\n",
    "    # Step 1: Extract the collection ID from the ARN\n",
    "    collection_id = extract_collection_id_from_arn(collection_arn)\n",
    "    \n",
    "    if collection_id is None:\n",
    "        print(\"Invalid collection ARN. Cannot proceed with deletion.\")\n",
    "        return\n",
    "    \n",
    "    # Step 2: Use the OpenSearch client to delete the collection by ID\n",
    "    try:\n",
    "        response = aoss_client.delete_collection(id=collection_id)\n",
    "        print(f\"Collection {collection_id} deleted successfully.\")\n",
    "    except Exception as e:\n",
    "        print(f\"Error deleting collection: {e}\")\n",
    "\n",
    "# Call the function to delete the collection\n",
    "delete_opensearch_collection(aoss_client, aoss_collectionarn)'''"
   ]
  },
  {
   "cell_type": "code",
   "execution_count": null,
   "id": "86f36e69-ea80-4fa8-9649-159ec51e175c",
   "metadata": {
    "tags": []
   },
   "outputs": [],
   "source": [
    "'''%%time\n",
    "\n",
    "# Finally delete the knowledge base\n",
    "try:\n",
    "    # Attempt to delete the specified knowledge base\n",
    "    response = bedrock_agent_client.delete_knowledge_base(knowledgeBaseId=knowledgeBaseId)\n",
    "    \n",
    "    # Log the successful response\n",
    "    print(f\"Knowledge Base deleted successfully: {response}\")\n",
    "\n",
    "except bedrock_agent_client.exceptions.ResourceNotFoundException as e:\n",
    "    # Handle the case where the Knowledge Base does not exist\n",
    "    print(f\"Knowledge Base with ID {knowledgeBaseId} not found: {e}\")\n",
    "\n",
    "except bedrock_agent_client.exceptions.AccessDeniedException as e:\n",
    "    # Handle insufficient permissions\n",
    "    print(f\"Access denied when attempting to delete Knowledge Base: {e}\")\n",
    "\n",
    "except bedrock_agent_client.exceptions.ValidationException as e:\n",
    "    # Handle invalid input or parameters\n",
    "    print(f\"Invalid input for Knowledge Base deletion: {e}\")\n",
    "\n",
    "except Exception as e:\n",
    "    # Catch any other unexpected errors\n",
    "    print(f\"An unexpected error occurred: {e}\")'''"
   ]
  },
  {
   "cell_type": "code",
   "execution_count": null,
   "id": "37527940-009f-4314-b166-c9f93de50870",
   "metadata": {
    "tags": []
   },
   "outputs": [],
   "source": [
    "'''%%time\n",
    "\n",
    "try:\n",
    "    # Delete the agent alias first\n",
    "    response = bedrock_agent_client.delete_agent_alias(\n",
    "        agentAliasId=alias_id,  # Alias ID of the agent to delete\n",
    "        agentId=agent_id  # Agent ID to delete\n",
    "    )\n",
    "    print(f\"Agent alias {alias_id} deleted successfully.\")\n",
    "\n",
    "    # Now delete the agent itself\n",
    "    response = bedrock_agent_client.delete_agent(\n",
    "        agentId=agent_id  # The actual agent ID to delete\n",
    "    )\n",
    "    \n",
    "    # Log the successful response\n",
    "    print(f\"Agent ID {agent_id} deleted successfully: {response}\")\n",
    "\n",
    "except bedrock_agent_client.exceptions.ResourceNotFoundException as e:\n",
    "    # Handle the case where the resource (agent or alias) is not found\n",
    "    print(f\"Agent with ID {agent_id} or alias with ID {alias_id} not found: {e}\")\n",
    "\n",
    "except bedrock_agent_client.exceptions.AccessDeniedException as e:\n",
    "    # Handle insufficient permissions error\n",
    "    print(f\"Access denied when attempting to delete Agent ID {agent_id}: {e}\")\n",
    "\n",
    "except bedrock_agent_client.exceptions.ValidationException as e:\n",
    "    # Handle invalid input errors for agent deletion\n",
    "    print(f\"Invalid input for Agent ID {agent_id} deletion: {e}\")\n",
    "\n",
    "except Exception as e:\n",
    "    # Catch any other unexpected errors\n",
    "    print(f\"An unexpected error occurred: {e}\")'''"
   ]
  }
 ],
 "metadata": {
  "availableInstances": [
   {
    "_defaultOrder": 0,
    "_isFastLaunch": true,
    "category": "General purpose",
    "gpuNum": 0,
    "hideHardwareSpecs": false,
    "memoryGiB": 4,
    "name": "ml.t3.medium",
    "vcpuNum": 2
   },
   {
    "_defaultOrder": 1,
    "_isFastLaunch": false,
    "category": "General purpose",
    "gpuNum": 0,
    "hideHardwareSpecs": false,
    "memoryGiB": 8,
    "name": "ml.t3.large",
    "vcpuNum": 2
   },
   {
    "_defaultOrder": 2,
    "_isFastLaunch": false,
    "category": "General purpose",
    "gpuNum": 0,
    "hideHardwareSpecs": false,
    "memoryGiB": 16,
    "name": "ml.t3.xlarge",
    "vcpuNum": 4
   },
   {
    "_defaultOrder": 3,
    "_isFastLaunch": false,
    "category": "General purpose",
    "gpuNum": 0,
    "hideHardwareSpecs": false,
    "memoryGiB": 32,
    "name": "ml.t3.2xlarge",
    "vcpuNum": 8
   },
   {
    "_defaultOrder": 4,
    "_isFastLaunch": true,
    "category": "General purpose",
    "gpuNum": 0,
    "hideHardwareSpecs": false,
    "memoryGiB": 8,
    "name": "ml.m5.large",
    "vcpuNum": 2
   },
   {
    "_defaultOrder": 5,
    "_isFastLaunch": false,
    "category": "General purpose",
    "gpuNum": 0,
    "hideHardwareSpecs": false,
    "memoryGiB": 16,
    "name": "ml.m5.xlarge",
    "vcpuNum": 4
   },
   {
    "_defaultOrder": 6,
    "_isFastLaunch": false,
    "category": "General purpose",
    "gpuNum": 0,
    "hideHardwareSpecs": false,
    "memoryGiB": 32,
    "name": "ml.m5.2xlarge",
    "vcpuNum": 8
   },
   {
    "_defaultOrder": 7,
    "_isFastLaunch": false,
    "category": "General purpose",
    "gpuNum": 0,
    "hideHardwareSpecs": false,
    "memoryGiB": 64,
    "name": "ml.m5.4xlarge",
    "vcpuNum": 16
   },
   {
    "_defaultOrder": 8,
    "_isFastLaunch": false,
    "category": "General purpose",
    "gpuNum": 0,
    "hideHardwareSpecs": false,
    "memoryGiB": 128,
    "name": "ml.m5.8xlarge",
    "vcpuNum": 32
   },
   {
    "_defaultOrder": 9,
    "_isFastLaunch": false,
    "category": "General purpose",
    "gpuNum": 0,
    "hideHardwareSpecs": false,
    "memoryGiB": 192,
    "name": "ml.m5.12xlarge",
    "vcpuNum": 48
   },
   {
    "_defaultOrder": 10,
    "_isFastLaunch": false,
    "category": "General purpose",
    "gpuNum": 0,
    "hideHardwareSpecs": false,
    "memoryGiB": 256,
    "name": "ml.m5.16xlarge",
    "vcpuNum": 64
   },
   {
    "_defaultOrder": 11,
    "_isFastLaunch": false,
    "category": "General purpose",
    "gpuNum": 0,
    "hideHardwareSpecs": false,
    "memoryGiB": 384,
    "name": "ml.m5.24xlarge",
    "vcpuNum": 96
   },
   {
    "_defaultOrder": 12,
    "_isFastLaunch": false,
    "category": "General purpose",
    "gpuNum": 0,
    "hideHardwareSpecs": false,
    "memoryGiB": 8,
    "name": "ml.m5d.large",
    "vcpuNum": 2
   },
   {
    "_defaultOrder": 13,
    "_isFastLaunch": false,
    "category": "General purpose",
    "gpuNum": 0,
    "hideHardwareSpecs": false,
    "memoryGiB": 16,
    "name": "ml.m5d.xlarge",
    "vcpuNum": 4
   },
   {
    "_defaultOrder": 14,
    "_isFastLaunch": false,
    "category": "General purpose",
    "gpuNum": 0,
    "hideHardwareSpecs": false,
    "memoryGiB": 32,
    "name": "ml.m5d.2xlarge",
    "vcpuNum": 8
   },
   {
    "_defaultOrder": 15,
    "_isFastLaunch": false,
    "category": "General purpose",
    "gpuNum": 0,
    "hideHardwareSpecs": false,
    "memoryGiB": 64,
    "name": "ml.m5d.4xlarge",
    "vcpuNum": 16
   },
   {
    "_defaultOrder": 16,
    "_isFastLaunch": false,
    "category": "General purpose",
    "gpuNum": 0,
    "hideHardwareSpecs": false,
    "memoryGiB": 128,
    "name": "ml.m5d.8xlarge",
    "vcpuNum": 32
   },
   {
    "_defaultOrder": 17,
    "_isFastLaunch": false,
    "category": "General purpose",
    "gpuNum": 0,
    "hideHardwareSpecs": false,
    "memoryGiB": 192,
    "name": "ml.m5d.12xlarge",
    "vcpuNum": 48
   },
   {
    "_defaultOrder": 18,
    "_isFastLaunch": false,
    "category": "General purpose",
    "gpuNum": 0,
    "hideHardwareSpecs": false,
    "memoryGiB": 256,
    "name": "ml.m5d.16xlarge",
    "vcpuNum": 64
   },
   {
    "_defaultOrder": 19,
    "_isFastLaunch": false,
    "category": "General purpose",
    "gpuNum": 0,
    "hideHardwareSpecs": false,
    "memoryGiB": 384,
    "name": "ml.m5d.24xlarge",
    "vcpuNum": 96
   },
   {
    "_defaultOrder": 20,
    "_isFastLaunch": false,
    "category": "General purpose",
    "gpuNum": 0,
    "hideHardwareSpecs": true,
    "memoryGiB": 0,
    "name": "ml.geospatial.interactive",
    "supportedImageNames": [
     "sagemaker-geospatial-v1-0"
    ],
    "vcpuNum": 0
   },
   {
    "_defaultOrder": 21,
    "_isFastLaunch": true,
    "category": "Compute optimized",
    "gpuNum": 0,
    "hideHardwareSpecs": false,
    "memoryGiB": 4,
    "name": "ml.c5.large",
    "vcpuNum": 2
   },
   {
    "_defaultOrder": 22,
    "_isFastLaunch": false,
    "category": "Compute optimized",
    "gpuNum": 0,
    "hideHardwareSpecs": false,
    "memoryGiB": 8,
    "name": "ml.c5.xlarge",
    "vcpuNum": 4
   },
   {
    "_defaultOrder": 23,
    "_isFastLaunch": false,
    "category": "Compute optimized",
    "gpuNum": 0,
    "hideHardwareSpecs": false,
    "memoryGiB": 16,
    "name": "ml.c5.2xlarge",
    "vcpuNum": 8
   },
   {
    "_defaultOrder": 24,
    "_isFastLaunch": false,
    "category": "Compute optimized",
    "gpuNum": 0,
    "hideHardwareSpecs": false,
    "memoryGiB": 32,
    "name": "ml.c5.4xlarge",
    "vcpuNum": 16
   },
   {
    "_defaultOrder": 25,
    "_isFastLaunch": false,
    "category": "Compute optimized",
    "gpuNum": 0,
    "hideHardwareSpecs": false,
    "memoryGiB": 72,
    "name": "ml.c5.9xlarge",
    "vcpuNum": 36
   },
   {
    "_defaultOrder": 26,
    "_isFastLaunch": false,
    "category": "Compute optimized",
    "gpuNum": 0,
    "hideHardwareSpecs": false,
    "memoryGiB": 96,
    "name": "ml.c5.12xlarge",
    "vcpuNum": 48
   },
   {
    "_defaultOrder": 27,
    "_isFastLaunch": false,
    "category": "Compute optimized",
    "gpuNum": 0,
    "hideHardwareSpecs": false,
    "memoryGiB": 144,
    "name": "ml.c5.18xlarge",
    "vcpuNum": 72
   },
   {
    "_defaultOrder": 28,
    "_isFastLaunch": false,
    "category": "Compute optimized",
    "gpuNum": 0,
    "hideHardwareSpecs": false,
    "memoryGiB": 192,
    "name": "ml.c5.24xlarge",
    "vcpuNum": 96
   },
   {
    "_defaultOrder": 29,
    "_isFastLaunch": true,
    "category": "Accelerated computing",
    "gpuNum": 1,
    "hideHardwareSpecs": false,
    "memoryGiB": 16,
    "name": "ml.g4dn.xlarge",
    "vcpuNum": 4
   },
   {
    "_defaultOrder": 30,
    "_isFastLaunch": false,
    "category": "Accelerated computing",
    "gpuNum": 1,
    "hideHardwareSpecs": false,
    "memoryGiB": 32,
    "name": "ml.g4dn.2xlarge",
    "vcpuNum": 8
   },
   {
    "_defaultOrder": 31,
    "_isFastLaunch": false,
    "category": "Accelerated computing",
    "gpuNum": 1,
    "hideHardwareSpecs": false,
    "memoryGiB": 64,
    "name": "ml.g4dn.4xlarge",
    "vcpuNum": 16
   },
   {
    "_defaultOrder": 32,
    "_isFastLaunch": false,
    "category": "Accelerated computing",
    "gpuNum": 1,
    "hideHardwareSpecs": false,
    "memoryGiB": 128,
    "name": "ml.g4dn.8xlarge",
    "vcpuNum": 32
   },
   {
    "_defaultOrder": 33,
    "_isFastLaunch": false,
    "category": "Accelerated computing",
    "gpuNum": 4,
    "hideHardwareSpecs": false,
    "memoryGiB": 192,
    "name": "ml.g4dn.12xlarge",
    "vcpuNum": 48
   },
   {
    "_defaultOrder": 34,
    "_isFastLaunch": false,
    "category": "Accelerated computing",
    "gpuNum": 1,
    "hideHardwareSpecs": false,
    "memoryGiB": 256,
    "name": "ml.g4dn.16xlarge",
    "vcpuNum": 64
   },
   {
    "_defaultOrder": 35,
    "_isFastLaunch": false,
    "category": "Accelerated computing",
    "gpuNum": 1,
    "hideHardwareSpecs": false,
    "memoryGiB": 61,
    "name": "ml.p3.2xlarge",
    "vcpuNum": 8
   },
   {
    "_defaultOrder": 36,
    "_isFastLaunch": false,
    "category": "Accelerated computing",
    "gpuNum": 4,
    "hideHardwareSpecs": false,
    "memoryGiB": 244,
    "name": "ml.p3.8xlarge",
    "vcpuNum": 32
   },
   {
    "_defaultOrder": 37,
    "_isFastLaunch": false,
    "category": "Accelerated computing",
    "gpuNum": 8,
    "hideHardwareSpecs": false,
    "memoryGiB": 488,
    "name": "ml.p3.16xlarge",
    "vcpuNum": 64
   },
   {
    "_defaultOrder": 38,
    "_isFastLaunch": false,
    "category": "Accelerated computing",
    "gpuNum": 8,
    "hideHardwareSpecs": false,
    "memoryGiB": 768,
    "name": "ml.p3dn.24xlarge",
    "vcpuNum": 96
   },
   {
    "_defaultOrder": 39,
    "_isFastLaunch": false,
    "category": "Memory Optimized",
    "gpuNum": 0,
    "hideHardwareSpecs": false,
    "memoryGiB": 16,
    "name": "ml.r5.large",
    "vcpuNum": 2
   },
   {
    "_defaultOrder": 40,
    "_isFastLaunch": false,
    "category": "Memory Optimized",
    "gpuNum": 0,
    "hideHardwareSpecs": false,
    "memoryGiB": 32,
    "name": "ml.r5.xlarge",
    "vcpuNum": 4
   },
   {
    "_defaultOrder": 41,
    "_isFastLaunch": false,
    "category": "Memory Optimized",
    "gpuNum": 0,
    "hideHardwareSpecs": false,
    "memoryGiB": 64,
    "name": "ml.r5.2xlarge",
    "vcpuNum": 8
   },
   {
    "_defaultOrder": 42,
    "_isFastLaunch": false,
    "category": "Memory Optimized",
    "gpuNum": 0,
    "hideHardwareSpecs": false,
    "memoryGiB": 128,
    "name": "ml.r5.4xlarge",
    "vcpuNum": 16
   },
   {
    "_defaultOrder": 43,
    "_isFastLaunch": false,
    "category": "Memory Optimized",
    "gpuNum": 0,
    "hideHardwareSpecs": false,
    "memoryGiB": 256,
    "name": "ml.r5.8xlarge",
    "vcpuNum": 32
   },
   {
    "_defaultOrder": 44,
    "_isFastLaunch": false,
    "category": "Memory Optimized",
    "gpuNum": 0,
    "hideHardwareSpecs": false,
    "memoryGiB": 384,
    "name": "ml.r5.12xlarge",
    "vcpuNum": 48
   },
   {
    "_defaultOrder": 45,
    "_isFastLaunch": false,
    "category": "Memory Optimized",
    "gpuNum": 0,
    "hideHardwareSpecs": false,
    "memoryGiB": 512,
    "name": "ml.r5.16xlarge",
    "vcpuNum": 64
   },
   {
    "_defaultOrder": 46,
    "_isFastLaunch": false,
    "category": "Memory Optimized",
    "gpuNum": 0,
    "hideHardwareSpecs": false,
    "memoryGiB": 768,
    "name": "ml.r5.24xlarge",
    "vcpuNum": 96
   },
   {
    "_defaultOrder": 47,
    "_isFastLaunch": false,
    "category": "Accelerated computing",
    "gpuNum": 1,
    "hideHardwareSpecs": false,
    "memoryGiB": 16,
    "name": "ml.g5.xlarge",
    "vcpuNum": 4
   },
   {
    "_defaultOrder": 48,
    "_isFastLaunch": false,
    "category": "Accelerated computing",
    "gpuNum": 1,
    "hideHardwareSpecs": false,
    "memoryGiB": 32,
    "name": "ml.g5.2xlarge",
    "vcpuNum": 8
   },
   {
    "_defaultOrder": 49,
    "_isFastLaunch": false,
    "category": "Accelerated computing",
    "gpuNum": 1,
    "hideHardwareSpecs": false,
    "memoryGiB": 64,
    "name": "ml.g5.4xlarge",
    "vcpuNum": 16
   },
   {
    "_defaultOrder": 50,
    "_isFastLaunch": false,
    "category": "Accelerated computing",
    "gpuNum": 1,
    "hideHardwareSpecs": false,
    "memoryGiB": 128,
    "name": "ml.g5.8xlarge",
    "vcpuNum": 32
   },
   {
    "_defaultOrder": 51,
    "_isFastLaunch": false,
    "category": "Accelerated computing",
    "gpuNum": 1,
    "hideHardwareSpecs": false,
    "memoryGiB": 256,
    "name": "ml.g5.16xlarge",
    "vcpuNum": 64
   },
   {
    "_defaultOrder": 52,
    "_isFastLaunch": false,
    "category": "Accelerated computing",
    "gpuNum": 4,
    "hideHardwareSpecs": false,
    "memoryGiB": 192,
    "name": "ml.g5.12xlarge",
    "vcpuNum": 48
   },
   {
    "_defaultOrder": 53,
    "_isFastLaunch": false,
    "category": "Accelerated computing",
    "gpuNum": 4,
    "hideHardwareSpecs": false,
    "memoryGiB": 384,
    "name": "ml.g5.24xlarge",
    "vcpuNum": 96
   },
   {
    "_defaultOrder": 54,
    "_isFastLaunch": false,
    "category": "Accelerated computing",
    "gpuNum": 8,
    "hideHardwareSpecs": false,
    "memoryGiB": 768,
    "name": "ml.g5.48xlarge",
    "vcpuNum": 192
   },
   {
    "_defaultOrder": 55,
    "_isFastLaunch": false,
    "category": "Accelerated computing",
    "gpuNum": 8,
    "hideHardwareSpecs": false,
    "memoryGiB": 1152,
    "name": "ml.p4d.24xlarge",
    "vcpuNum": 96
   },
   {
    "_defaultOrder": 56,
    "_isFastLaunch": false,
    "category": "Accelerated computing",
    "gpuNum": 8,
    "hideHardwareSpecs": false,
    "memoryGiB": 1152,
    "name": "ml.p4de.24xlarge",
    "vcpuNum": 96
   },
   {
    "_defaultOrder": 57,
    "_isFastLaunch": false,
    "category": "Accelerated computing",
    "gpuNum": 0,
    "hideHardwareSpecs": false,
    "memoryGiB": 32,
    "name": "ml.trn1.2xlarge",
    "vcpuNum": 8
   },
   {
    "_defaultOrder": 58,
    "_isFastLaunch": false,
    "category": "Accelerated computing",
    "gpuNum": 0,
    "hideHardwareSpecs": false,
    "memoryGiB": 512,
    "name": "ml.trn1.32xlarge",
    "vcpuNum": 128
   },
   {
    "_defaultOrder": 59,
    "_isFastLaunch": false,
    "category": "Accelerated computing",
    "gpuNum": 0,
    "hideHardwareSpecs": false,
    "memoryGiB": 512,
    "name": "ml.trn1n.32xlarge",
    "vcpuNum": 128
   }
  ],
  "instance_type": "ml.t3.medium",
  "kernelspec": {
   "display_name": "Python 3 (Data Science 3.0)",
   "language": "python",
   "name": "python3__SAGEMAKER_INTERNAL__arn:aws:sagemaker:us-east-1:081325390199:image/sagemaker-data-science-310-v1"
  },
  "language_info": {
   "codemirror_mode": {
    "name": "ipython",
    "version": 3
   },
   "file_extension": ".py",
   "mimetype": "text/x-python",
   "name": "python",
   "nbconvert_exporter": "python",
   "pygments_lexer": "ipython3",
   "version": "3.10.6"
  }
 },
 "nbformat": 4,
 "nbformat_minor": 5
}
