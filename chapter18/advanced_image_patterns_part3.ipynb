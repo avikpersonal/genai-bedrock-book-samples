{
 "cells": [
  {
   "cell_type": "markdown",
   "id": "7ed3a60a-5001-46ff-ae70-61d861a00c53",
   "metadata": {
    "tags": []
   },
   "source": [
    "# File Name: advanced_image_patterns_part3.ipynb\n",
    "### Location: Chapter 18\n",
    "### Purpose: \n",
    "#####       1. Image model customization\n",
    "\n",
    "##### Dependency: simple-sageMaker-bedrock.ipynb at Chapter 3 should work properly.\n",
    "# <ins>-----------------------------------------------------------------------------------</ins>"
   ]
  },
  {
   "cell_type": "markdown",
   "id": "c99464e3-0679-4a67-bb38-8d96892eefa5",
   "metadata": {},
   "source": [
    "# <ins>Amazon SageMaker Classic</ins>\n",
    "#### Those who are new to Amazon SageMaker Classic. Follow the link for the details. https://docs.aws.amazon.com/sagemaker/latest/dg/studio.html"
   ]
  },
  {
   "cell_type": "markdown",
   "id": "91003ca1-0026-46eb-bd09-81861135cb22",
   "metadata": {},
   "source": [
    "# <ins>Environment setup of Kernel</ins>\n",
    "##### Fill \"Image\" as \"Data Science\"\n",
    "##### Fill \"Kernel\" as \"Python 3\"\n",
    "##### Fill \"Instance type\" as \"ml-t3-medium\"\n",
    "##### Fill \"Start-up script\" as \"No Scripts\"\n",
    "##### Click \"Select\"\n",
    "\n",
    "###### Refer https://docs.aws.amazon.com/sagemaker/latest/dg/notebooks-create-open.html for details."
   ]
  },
  {
   "cell_type": "markdown",
   "id": "c865b7f5-755a-498c-bff6-7647281b15b9",
   "metadata": {},
   "source": [
    "# <ins>Mandatory installation on the kernel through pip</ins>\n",
    "\n",
    "##### This lab will work with below software version. But, if you are trying with latest version of boto3, awscli, and botocore. This code may fail. You might need to change the corresponding api. \n",
    "\n",
    "##### You will see pip dependency errors. you can safely ignore these errors and continue executing rest of the cell. "
   ]
  },
  {
   "cell_type": "code",
   "execution_count": null,
   "id": "6ade0112-a4be-4ce8-be92-8cbf28b2acfa",
   "metadata": {
    "tags": []
   },
   "outputs": [],
   "source": [
    "%%time \n",
    "\n",
    "%pip install --no-build-isolation --force-reinstall -q \\\n",
    "    \"boto3\" \\\n",
    "    \"awscli\" \\\n",
    "    \"botocore\" \\\n",
    "    \"utils\" \\\n",
    "    \"matplotlib\" \\\n",
    "    \"sagemaker\" \\\n",
    "    \"numpy<2\""
   ]
  },
  {
   "cell_type": "markdown",
   "id": "0c4e3b85-4e64-42ef-9355-ed2a61c68b23",
   "metadata": {},
   "source": [
    "# <ins>Disclaimer</ins>\n",
    "\n",
    "##### You will see pip dependency errors. you can safely ignore these errors and continue executing rest of the cell."
   ]
  },
  {
   "cell_type": "markdown",
   "id": "a88ee934-e99c-49ce-9e94-27ffc5baabe1",
   "metadata": {},
   "source": [
    "# <ins>Restart the kernel</ins>"
   ]
  },
  {
   "cell_type": "code",
   "execution_count": null,
   "id": "0aaf41bf-d2d2-46fa-b1d4-1dd19c45a069",
   "metadata": {
    "tags": []
   },
   "outputs": [],
   "source": [
    "# restart kernel\n",
    "from IPython.core.display import HTML\n",
    "HTML(\"<script>Jupyter.notebook.kernel.restart()</script>\")"
   ]
  },
  {
   "cell_type": "markdown",
   "id": "1e5af76d-b2a9-4740-b8bf-134932804719",
   "metadata": {},
   "source": [
    "# <ins>Python package import</ins>\n",
    "\n",
    "##### boto3 offers various clients for Amazon Bedrock to execute various actions.\n",
    "##### botocore is a low-level interface to AWS tools, while boto3 is built on top of botocore and provides additional features"
   ]
  },
  {
   "cell_type": "code",
   "execution_count": null,
   "id": "c7268959-6ef0-4cbd-bd53-3b31369b4513",
   "metadata": {
    "tags": []
   },
   "outputs": [],
   "source": [
    "import os\n",
    "import sys\n",
    "import json\n",
    "import io\n",
    "import base64\n",
    "import random\n",
    "import warnings\n",
    "import boto3\n",
    "import botocore\n",
    "import numpy as np\n",
    "import matplotlib.pyplot as plt\n",
    "import matplotlib.image as mpimg \n",
    "from PIL import Image, ImageOps\n",
    "import sagemaker"
   ]
  },
  {
   "cell_type": "markdown",
   "id": "b1d1b877-deab-4961-a249-7663e812fbb8",
   "metadata": {},
   "source": [
    "### Ignore warning "
   ]
  },
  {
   "cell_type": "code",
   "execution_count": null,
   "id": "71587271-9f02-46dc-9eaf-5a5291132f8f",
   "metadata": {
    "tags": []
   },
   "outputs": [],
   "source": [
    "warnings.filterwarnings('ignore')"
   ]
  },
  {
   "cell_type": "markdown",
   "id": "6a707d91-23c2-4786-bd2a-6287ca51ef82",
   "metadata": {},
   "source": [
    "## Define important environment variable"
   ]
  },
  {
   "cell_type": "code",
   "execution_count": null,
   "id": "7c4247b5-5fe7-4ec8-9f25-bff782734606",
   "metadata": {
    "tags": []
   },
   "outputs": [],
   "source": [
    "# Try-except block to handle potential errors during execution\n",
    "try:\n",
    "    # Create a new Boto3 session to interact with AWS services\n",
    "    # This session manages credentials and region configuration for AWS interactions\n",
    "    boto3_session = boto3.session.Session()\n",
    "\n",
    "    # Retrieve the current AWS region from the session (e.g., 'us-east-1', 'us-west-2')\n",
    "    aws_region_name = boto3_session.region_name\n",
    "\n",
    "    # Initialize Bedrock and Bedrock Runtime clients using Boto3\n",
    "    # These clients enable interactions with AWS Bedrock-related services\n",
    "    boto3_bedrock_client = boto3.client('bedrock', region_name=aws_region_name)\n",
    "    boto3_bedrock_runtime_client = boto3.client('bedrock-runtime', region_name=aws_region_name)\n",
    "\n",
    "    # Create a SageMaker session and retrieve the execution role ARN\n",
    "    # The role ARN authorizes SageMaker to perform tasks on behalf of the user\n",
    "    sagemaker_role_arn = sagemaker.get_execution_role()\n",
    "\n",
    "    # Specify the Amazon Titan image generator model ID for multimodal processing\n",
    "    amazon_titan_image_model_id = \"amazon.titan-image-generator-v2:0\"\n",
    "\n",
    "    # Specify the Amazon Titan embedding model ID for multimodal indexing\n",
    "    multimodal_embed_model_id = \"amazon.titan-embed-image-v1\"\n",
    "\n",
    "    # Store all relevant variables in a dictionary for easier access and management\n",
    "    variables_store = {\n",
    "        \"aws_region_name\": aws_region_name,                           # AWS region name\n",
    "        \"boto3_bedrock_client\": boto3_bedrock_client,                 # Bedrock client instance\n",
    "        \"boto3_bedrock_runtime_client\": boto3_bedrock_runtime_client, # Bedrock Runtime client instance\n",
    "        \"boto3_session\": boto3_session,                               # Current Boto3 session object\n",
    "        \"sagemaker_role_arn\": sagemaker_role_arn,                     # SageMaker execution role ARN\n",
    "        \"multimodal_embed_model_id\": multimodal_embed_model_id,       # Titan embedding model ID\n",
    "        \"amazon_titan_image_model_id\": amazon_titan_image_model_id    # Titan image generator model ID\n",
    "    }\n",
    "\n",
    "    # Print all stored variables for debugging and verification\n",
    "    for var_name, value in variables_store.items():\n",
    "        print(f\"{var_name}: {value}\")\n",
    "\n",
    "# Handle any exceptions that occur during the execution\n",
    "except Exception as e:\n",
    "    # Print an error message if an unexpected error occurs\n",
    "    print(f\"An unexpected error occurred: {e}\")\n"
   ]
  },
  {
   "cell_type": "markdown",
   "id": "8e66c758-c45f-4a30-a3cb-20a0fe6f3e2f",
   "metadata": {},
   "source": [
    "# Common code "
   ]
  },
  {
   "cell_type": "markdown",
   "id": "326a83b4-e7a1-4e1d-819e-acc5b72f70ad",
   "metadata": {},
   "source": [
    "### The provided Python code allows you to plot multiple images side by side with corresponding headings."
   ]
  },
  {
   "cell_type": "code",
   "execution_count": null,
   "id": "61f5385e-c94e-43b1-951a-8aec3a93a0c8",
   "metadata": {
    "tags": []
   },
   "outputs": [],
   "source": [
    "%%time\n",
    "def plot_multiple_images(images, headings, cols=3):\n",
    "    \"\"\"\n",
    "    Plots multiple images side by side with headings.\n",
    "\n",
    "    Parameters:\n",
    "    images (list): A list of image paths.\n",
    "    headings (list): A list of headings for each image.\n",
    "    cols (int): The number of columns to display the images in (default is 3).\n",
    "    \"\"\"\n",
    "    # Calculate number of rows needed\n",
    "    rows = (len(images) + cols - 1) // cols\n",
    "\n",
    "    # Create a figure and axes\n",
    "    fig, axes = plt.subplots(rows, cols, figsize=(cols * 5, rows * 5))\n",
    "\n",
    "    # Flatten axes array if there are multiple rows\n",
    "    axes = axes.flatten()\n",
    "\n",
    "    # Loop through images and plot them\n",
    "    for i in range(len(images)):\n",
    "        # Read the image from file path\n",
    "        img = mpimg.imread(images[i])\n",
    "        \n",
    "        # Plot the image\n",
    "        axes[i].imshow(img)\n",
    "        axes[i].axis('off')  # Hide axis\n",
    "        \n",
    "        # Add the heading\n",
    "        axes[i].set_title(headings[i], fontsize=14, weight='bold')\n",
    "\n",
    "    # Hide unused axes if the number of images is less than the number of axes\n",
    "    for i in range(len(images), len(axes)):\n",
    "        axes[i].axis('off')\n",
    "\n",
    "    # Adjust layout\n",
    "    plt.tight_layout()\n",
    "    plt.show()\n",
    "\n",
    "# Example usage\n",
    "# plot_multiple_images(images, headings, cols=2)"
   ]
  },
  {
   "cell_type": "markdown",
   "id": "135945d4-1240-42c0-a208-8ceab535abe5",
   "metadata": {},
   "source": [
    "### base64 encoded string of the image"
   ]
  },
  {
   "cell_type": "code",
   "execution_count": null,
   "id": "23961cc5-9756-4cb1-a5fe-c612ffc5c0d0",
   "metadata": {
    "tags": []
   },
   "outputs": [],
   "source": [
    "%%time\n",
    "def encode_image(image_path):\n",
    "    # Open the image file in binary mode\n",
    "    with open(image_path, \"rb\") as image_file:\n",
    "        # Encode the image to base64\n",
    "        encoded_image = base64.b64encode(image_file.read()).decode(\"utf-8\")\n",
    "    return encoded_image\n",
    "\n",
    "# Example usage\n",
    "## encoded_image = encode_image(image_path)"
   ]
  },
  {
   "cell_type": "markdown",
   "id": "39439a84-c212-4ac9-b1e7-c1c7a275ccbd",
   "metadata": {},
   "source": [
    "### Decode base64 to image and save"
   ]
  },
  {
   "cell_type": "code",
   "execution_count": null,
   "id": "cdb9c75c-a682-4069-a03c-fe6fbd3ee2e0",
   "metadata": {
    "tags": []
   },
   "outputs": [],
   "source": [
    "%%time\n",
    "\n",
    "def decode_image(encoded_image_b64, save_path):\n",
    "    \"\"\"\n",
    "    Decodes a base64-encoded image and saves it to a specified file location.\n",
    "\n",
    "    Args:\n",
    "        encoded_image_b64 (str): The base64-encoded string of the image.\n",
    "        save_path (str): The path where the decoded image will be saved.\n",
    "\n",
    "    Returns:\n",
    "        None\n",
    "    \"\"\"\n",
    "    try:\n",
    "        # Decode the base64 image and open it as a PIL Image\n",
    "        decoded_image = Image.open(\n",
    "            io.BytesIO(\n",
    "                base64.decodebytes(bytes(encoded_image_b64, \"utf-8\"))\n",
    "            )\n",
    "        )\n",
    "        \n",
    "        # Save the decoded image to the specified path\n",
    "        decoded_image.save(save_path)\n",
    "        print(f\"Image successfully saved to {save_path}\")\n",
    "    except (base64.binascii.Error, IOError) as e:\n",
    "        print(f\"Error decoding or saving the image: {e}\")\n",
    "        raise  # Optionally re-raise the exception for external handling\n",
    "\n",
    "# Example usage\n",
    "# decode_image(generated_image_b64, \"output_image.png\")"
   ]
  },
  {
   "cell_type": "markdown",
   "id": "1a3260a9-2ae7-4181-972b-b8a744c8aeb4",
   "metadata": {},
   "source": [
    "### The function invoke_bedrock_model is designed to call an Amazon Bedrock model for image generation, with robust error handling and clear feedback mechanisms. It accepts a Boto3 runtime client, a JSON payload (body), and an optional model ID"
   ]
  },
  {
   "cell_type": "code",
   "execution_count": null,
   "id": "a03f872f-4773-485a-9419-fcae6e86005e",
   "metadata": {
    "tags": []
   },
   "outputs": [],
   "source": [
    "%%time\n",
    "def invoke_bedrock_model(boto3_bedrock_runtime_client, body, model_id):\n",
    "    \"\"\"\n",
    "    Invokes the Amazon Bedrock model for image generation with error handling.\n",
    "    \n",
    "    Args:\n",
    "        boto3_bedrock_runtime_client: The Boto3 Bedrock runtime client.\n",
    "        body (str): The request payload as a JSON string.\n",
    "        model_id (str): The model identifier to invoke (default: \"amazon.titan-image-generator-v1\").\n",
    "    \n",
    "    Returns:\n",
    "        str: The base64-encoded image data if successful.\n",
    "    \"\"\"\n",
    "    try:\n",
    "        # Model invocation\n",
    "        response = boto3_bedrock_runtime_client.invoke_model(\n",
    "            body=body,\n",
    "            modelId=model_id,\n",
    "            accept=\"application/json\", \n",
    "            contentType=\"application/json\"\n",
    "        )\n",
    "        \n",
    "        # Output processing\n",
    "        response_body = json.loads(response.get(\"body\").read())  # Decode response body\n",
    "        img_b64 = response_body[\"images\"][0]  # Extract the first image (base64-encoded)\n",
    "        print(f\"Output (truncated): {img_b64[:80]}...\")  # Print truncated base64 string for debugging\n",
    "        \n",
    "        return img_b64  # Return the full base64-encoded image\n",
    "    \n",
    "    except KeyError as e:\n",
    "        print(f\"KeyError: Missing expected key in response - {e}\")\n",
    "        return None\n",
    "    \n",
    "    except json.JSONDecodeError as e:\n",
    "        print(f\"JSONDecodeError: Failed to parse response body - {e}\")\n",
    "        return None\n",
    "    \n",
    "    except boto3.exceptions.Boto3Error as e:\n",
    "        print(f\"Boto3Error: AWS SDK error - {e}\")\n",
    "        return None\n",
    "    \n",
    "    except Exception as e:\n",
    "        print(f\"Unexpected Error: {e}\")\n",
    "        return None"
   ]
  },
  {
   "cell_type": "markdown",
   "id": "02d3519e-6148-4fa0-8838-f124de2de7c4",
   "metadata": {
    "tags": []
   },
   "source": [
    "# Section 10: Image model customization"
   ]
  },
  {
   "cell_type": "markdown",
   "id": "87477ce8-39e8-4600-8d2b-773fd7bd6d46",
   "metadata": {},
   "source": [
    "##### You will explore 2 use cases below. \n",
    "\n",
    "##### Use Case 1: Generating Image Variations Using a Prompt and Reference Image(s)\n",
    "##### Use Case 2: Instant Customization Through Style Transfer\n",
    "\n",
    "\n",
    "##### similarityStrength (Optional) – Specifies how similar the generated image should be to the input images(s). Range in 0.2 to 1.0 with lower values used to introduce more randomness. Refer: https://docs.aws.amazon.com/bedrock/latest/userguide/model-parameters-titan-image.html"
   ]
  },
  {
   "cell_type": "markdown",
   "id": "d7746a14-abe4-4b0b-ad3d-4e95135920f8",
   "metadata": {},
   "source": [
    "# Use Case 1: Generating Image Variations Using a Prompt and Reference Image(s)\n",
    "\n",
    "\n",
    "### You previously generated an image of a river at dusk using a prompt. Now, you want to transfer the same referance with majestic Royal Bengal tiger.\n",
    "### The original image is located at data/generated_image/generated_image_15.png.\n",
    "### To achieve this, you will use the generating image variations using a prompt and reference image(s) technique."
   ]
  },
  {
   "cell_type": "markdown",
   "id": "0216376a-fbf2-4b3a-8141-29e4658ba009",
   "metadata": {},
   "source": [
    "# Prompt for generating image variations using a prompt and reference image(s)"
   ]
  },
  {
   "cell_type": "code",
   "execution_count": null,
   "id": "acd1acef-1065-46d8-b668-97a741843581",
   "metadata": {
    "tags": []
   },
   "outputs": [],
   "source": [
    "prompt = \"Realistic portrait of a majestic Royal Bengal tiger in its natural habitat, with vibrant orange fur, black stripes, and piercing amber eyes.\""
   ]
  },
  {
   "cell_type": "markdown",
   "id": "e287c591-b9a9-42f4-be57-5841499dce7c",
   "metadata": {
    "tags": []
   },
   "source": [
    "#### The code demonstrates two use cases for generating images using a prompt and reference images. It defines paths for the source and target images, with and without references. The source image is read and encoded in base64 for reference-based generation. For the text-to-image generation without reference, a JSON body specifies parameters such as the prompt, number of images, quality, and seed. For the image variation with reference, another JSON body includes the encoded reference image, a similarity strength parameter (set to 0.70), and the same configuration for image quality and seed. These configurations are prepared to support generating a premium-quality image either entirely from text or by using an existing image for variation."
   ]
  },
  {
   "cell_type": "code",
   "execution_count": null,
   "id": "fe272aa5-e23f-4464-9789-ec6e72775139",
   "metadata": {
    "tags": []
   },
   "outputs": [],
   "source": [
    "%%time\n",
    "\n",
    "use_case1_reference_source_image_path = \"data/generated_image/generated_image_15.png\"\n",
    "use_case1_target_image_path_wo_ref = \"data/generated_image/generated_image_tiger_wo_ref.png\"\n",
    "use_case1_target_image_path_w_ref = \"data/generated_image/generated_image_tiger_w_ref.png\"\n",
    "\n",
    "# Read the image file and encode it in base64\n",
    "source_encoded_image = encode_image(use_case1_reference_source_image_path)\n",
    "\n",
    "## body for without referance\n",
    "bodywo_ref = json.dumps({\n",
    "        \"taskType\": \"TEXT_IMAGE\",\n",
    "        \"textToImageParams\":{\n",
    "            \"text\": prompt\n",
    "        },\n",
    "        \"imageGenerationConfig\": {\n",
    "            \"numberOfImages\": 1,\n",
    "            \"quality\": \"premium\",\n",
    "            \"seed\": 5000\n",
    "        }\n",
    "    })\n",
    "\n",
    "## body for with referance\n",
    "bodyw_ref = json.dumps({\n",
    "        \"taskType\": \"IMAGE_VARIATION\",\n",
    "        \"imageVariationParams\": {\n",
    "            \"text\": prompt,\n",
    "            \"images\": [source_encoded_image], # can provide up to 5 reference images here\n",
    "            \"similarityStrength\": 0.70,  # between 0.2 to 1\n",
    "        },\n",
    "        \"imageGenerationConfig\": {\n",
    "            \"numberOfImages\": 1,\n",
    "            \"quality\": \"premium\",\n",
    "            \"seed\": 5000\n",
    "        }\n",
    "    })"
   ]
  },
  {
   "cell_type": "code",
   "execution_count": null,
   "id": "825625ec-4447-432c-ac17-217b0437b77c",
   "metadata": {
    "tags": []
   },
   "outputs": [],
   "source": [
    "%%time\n",
    "generated_image_b64 = invoke_bedrock_model(boto3_bedrock_runtime_client, bodywo_ref, amazon_titan_image_model_id )\n",
    "decode_image(generated_image_b64, use_case1_target_image_path_wo_ref)\n",
    "\n",
    "generated_image_b64 = invoke_bedrock_model(boto3_bedrock_runtime_client, bodyw_ref, amazon_titan_image_model_id )\n",
    "decode_image(generated_image_b64, use_case1_target_image_path_w_ref)\n",
    "\n",
    "print(\"\\n\\n\")\n",
    "images = [ use_case1_reference_source_image_path , use_case1_target_image_path_wo_ref , use_case1_target_image_path_w_ref ]\n",
    "headings =[ \"Source referance Image\" , \"Generated image with out referance\" , \"Generated image with referance\" ]\n",
    "plot_multiple_images(images, headings, cols=3)\n",
    "print(\"\\n\\n\")"
   ]
  },
  {
   "cell_type": "markdown",
   "id": "a117f0af-2175-4306-9fc2-03adf7a7b42c",
   "metadata": {
    "tags": []
   },
   "source": [
    "# Use Case 2: Instant Customization Through Style Transfer\n",
    "\n",
    "\n",
    "### You previously generated an image of an elephant in a beautifull landscape using a prompt. Now, you want to transfer the same style while generating image of majestic Royal Bengal tiger.\n",
    "### The original image is located at data/generated_image/generated_image_5.png.\n",
    "### To achieve this, you will use the generating image with style trasnfer technique."
   ]
  },
  {
   "cell_type": "markdown",
   "id": "c3ac9656-f3d6-4c46-9590-aae8d12c91e1",
   "metadata": {},
   "source": [
    "# Prompt for style transfer"
   ]
  },
  {
   "cell_type": "code",
   "execution_count": null,
   "id": "ea588e94-af95-40ad-a77a-27841bcd25f3",
   "metadata": {
    "tags": []
   },
   "outputs": [],
   "source": [
    "prompt = \"Realistic portrait of a majestic Royal Bengal tiger in its natural habitat, with vibrant orange fur, black stripes, and piercing amber eyes.\""
   ]
  },
  {
   "cell_type": "code",
   "execution_count": null,
   "id": "41f7abc8-4143-4e66-bb82-aac5d58edcd3",
   "metadata": {
    "tags": []
   },
   "outputs": [],
   "source": [
    "%%time\n",
    "\n",
    "use_case2_reference_source_image_path = \"data/generated_image/generated_image_5.png\"\n",
    "use_case2_target_image_path_wo_ref = \"data/generated_image/generated_image_elephant_wo_ref.png\"\n",
    "use_case2_target_image_path_w_ref = \"data/generated_image/generated_image_elephant_w_ref.png\"\n",
    "\n",
    "# Read the image file and encode it in base64\n",
    "source_encoded_image = encode_image(use_case2_reference_source_image_path)\n",
    "\n",
    "## body for without referance\n",
    "bodywo_ref = json.dumps({\n",
    "        \"taskType\": \"TEXT_IMAGE\",\n",
    "        \"textToImageParams\":{\n",
    "            \"text\": prompt\n",
    "        },\n",
    "        \"imageGenerationConfig\": {\n",
    "            \"numberOfImages\": 1,\n",
    "            \"quality\": \"premium\",\n",
    "            \"seed\": 500\n",
    "        }\n",
    "    })\n",
    "\n",
    "## body for with referance\n",
    "bodyw_ref = json.dumps({\n",
    "        \"taskType\": \"IMAGE_VARIATION\",\n",
    "        \"imageVariationParams\": {\n",
    "            \"text\": prompt,\n",
    "            \"images\": [source_encoded_image], # can provide up to 5 reference images here\n",
    "            \"similarityStrength\": 0.75,  # between 0.2 to 1\n",
    "        },\n",
    "        \"imageGenerationConfig\": {\n",
    "            \"numberOfImages\": 1,\n",
    "            \"quality\": \"premium\",\n",
    "            \"seed\": 500\n",
    "        }\n",
    "    })"
   ]
  },
  {
   "cell_type": "code",
   "execution_count": null,
   "id": "393cf819-e36a-4b94-b5bc-ac0116a8968c",
   "metadata": {
    "tags": []
   },
   "outputs": [],
   "source": [
    "%%time\n",
    "generated_image_b64 = invoke_bedrock_model(boto3_bedrock_runtime_client, bodywo_ref, amazon_titan_image_model_id )\n",
    "decode_image(generated_image_b64, use_case2_target_image_path_wo_ref)\n",
    "\n",
    "generated_image_b64 = invoke_bedrock_model(boto3_bedrock_runtime_client, bodyw_ref, amazon_titan_image_model_id )\n",
    "decode_image(generated_image_b64, use_case2_target_image_path_w_ref)\n",
    "\n",
    "print(\"\\n\\n\")\n",
    "images = [ use_case2_reference_source_image_path , use_case2_target_image_path_wo_ref , use_case2_target_image_path_w_ref ]\n",
    "headings =[ \"Source referance Image\" , \"Generated image with out referance\" , \"Generated image with referance\" ]\n",
    "plot_multiple_images(images, headings, cols=3)\n",
    "print(\"\\n\\n\")"
   ]
  },
  {
   "cell_type": "markdown",
   "id": "72971cda-4919-4042-93fc-71edd3185140",
   "metadata": {},
   "source": [
    "# End of NoteBook \n",
    "\n",
    "#### <ins>Step 1</ins> \n",
    "\n",
    "##### Please ensure that you close the kernel after using this notebook to avoid any potential charges to your account.\n",
    "\n",
    "##### Process: Go to \"Kernel\" at top option. Choose \"Shut Down Kernel\". \n",
    "##### Refer https://docs.aws.amazon.com/sagemaker/latest/dg/studio-ui.html"
   ]
  }
 ],
 "metadata": {
  "availableInstances": [
   {
    "_defaultOrder": 0,
    "_isFastLaunch": true,
    "category": "General purpose",
    "gpuNum": 0,
    "hideHardwareSpecs": false,
    "memoryGiB": 4,
    "name": "ml.t3.medium",
    "vcpuNum": 2
   },
   {
    "_defaultOrder": 1,
    "_isFastLaunch": false,
    "category": "General purpose",
    "gpuNum": 0,
    "hideHardwareSpecs": false,
    "memoryGiB": 8,
    "name": "ml.t3.large",
    "vcpuNum": 2
   },
   {
    "_defaultOrder": 2,
    "_isFastLaunch": false,
    "category": "General purpose",
    "gpuNum": 0,
    "hideHardwareSpecs": false,
    "memoryGiB": 16,
    "name": "ml.t3.xlarge",
    "vcpuNum": 4
   },
   {
    "_defaultOrder": 3,
    "_isFastLaunch": false,
    "category": "General purpose",
    "gpuNum": 0,
    "hideHardwareSpecs": false,
    "memoryGiB": 32,
    "name": "ml.t3.2xlarge",
    "vcpuNum": 8
   },
   {
    "_defaultOrder": 4,
    "_isFastLaunch": true,
    "category": "General purpose",
    "gpuNum": 0,
    "hideHardwareSpecs": false,
    "memoryGiB": 8,
    "name": "ml.m5.large",
    "vcpuNum": 2
   },
   {
    "_defaultOrder": 5,
    "_isFastLaunch": false,
    "category": "General purpose",
    "gpuNum": 0,
    "hideHardwareSpecs": false,
    "memoryGiB": 16,
    "name": "ml.m5.xlarge",
    "vcpuNum": 4
   },
   {
    "_defaultOrder": 6,
    "_isFastLaunch": false,
    "category": "General purpose",
    "gpuNum": 0,
    "hideHardwareSpecs": false,
    "memoryGiB": 32,
    "name": "ml.m5.2xlarge",
    "vcpuNum": 8
   },
   {
    "_defaultOrder": 7,
    "_isFastLaunch": false,
    "category": "General purpose",
    "gpuNum": 0,
    "hideHardwareSpecs": false,
    "memoryGiB": 64,
    "name": "ml.m5.4xlarge",
    "vcpuNum": 16
   },
   {
    "_defaultOrder": 8,
    "_isFastLaunch": false,
    "category": "General purpose",
    "gpuNum": 0,
    "hideHardwareSpecs": false,
    "memoryGiB": 128,
    "name": "ml.m5.8xlarge",
    "vcpuNum": 32
   },
   {
    "_defaultOrder": 9,
    "_isFastLaunch": false,
    "category": "General purpose",
    "gpuNum": 0,
    "hideHardwareSpecs": false,
    "memoryGiB": 192,
    "name": "ml.m5.12xlarge",
    "vcpuNum": 48
   },
   {
    "_defaultOrder": 10,
    "_isFastLaunch": false,
    "category": "General purpose",
    "gpuNum": 0,
    "hideHardwareSpecs": false,
    "memoryGiB": 256,
    "name": "ml.m5.16xlarge",
    "vcpuNum": 64
   },
   {
    "_defaultOrder": 11,
    "_isFastLaunch": false,
    "category": "General purpose",
    "gpuNum": 0,
    "hideHardwareSpecs": false,
    "memoryGiB": 384,
    "name": "ml.m5.24xlarge",
    "vcpuNum": 96
   },
   {
    "_defaultOrder": 12,
    "_isFastLaunch": false,
    "category": "General purpose",
    "gpuNum": 0,
    "hideHardwareSpecs": false,
    "memoryGiB": 8,
    "name": "ml.m5d.large",
    "vcpuNum": 2
   },
   {
    "_defaultOrder": 13,
    "_isFastLaunch": false,
    "category": "General purpose",
    "gpuNum": 0,
    "hideHardwareSpecs": false,
    "memoryGiB": 16,
    "name": "ml.m5d.xlarge",
    "vcpuNum": 4
   },
   {
    "_defaultOrder": 14,
    "_isFastLaunch": false,
    "category": "General purpose",
    "gpuNum": 0,
    "hideHardwareSpecs": false,
    "memoryGiB": 32,
    "name": "ml.m5d.2xlarge",
    "vcpuNum": 8
   },
   {
    "_defaultOrder": 15,
    "_isFastLaunch": false,
    "category": "General purpose",
    "gpuNum": 0,
    "hideHardwareSpecs": false,
    "memoryGiB": 64,
    "name": "ml.m5d.4xlarge",
    "vcpuNum": 16
   },
   {
    "_defaultOrder": 16,
    "_isFastLaunch": false,
    "category": "General purpose",
    "gpuNum": 0,
    "hideHardwareSpecs": false,
    "memoryGiB": 128,
    "name": "ml.m5d.8xlarge",
    "vcpuNum": 32
   },
   {
    "_defaultOrder": 17,
    "_isFastLaunch": false,
    "category": "General purpose",
    "gpuNum": 0,
    "hideHardwareSpecs": false,
    "memoryGiB": 192,
    "name": "ml.m5d.12xlarge",
    "vcpuNum": 48
   },
   {
    "_defaultOrder": 18,
    "_isFastLaunch": false,
    "category": "General purpose",
    "gpuNum": 0,
    "hideHardwareSpecs": false,
    "memoryGiB": 256,
    "name": "ml.m5d.16xlarge",
    "vcpuNum": 64
   },
   {
    "_defaultOrder": 19,
    "_isFastLaunch": false,
    "category": "General purpose",
    "gpuNum": 0,
    "hideHardwareSpecs": false,
    "memoryGiB": 384,
    "name": "ml.m5d.24xlarge",
    "vcpuNum": 96
   },
   {
    "_defaultOrder": 20,
    "_isFastLaunch": false,
    "category": "General purpose",
    "gpuNum": 0,
    "hideHardwareSpecs": true,
    "memoryGiB": 0,
    "name": "ml.geospatial.interactive",
    "supportedImageNames": [
     "sagemaker-geospatial-v1-0"
    ],
    "vcpuNum": 0
   },
   {
    "_defaultOrder": 21,
    "_isFastLaunch": true,
    "category": "Compute optimized",
    "gpuNum": 0,
    "hideHardwareSpecs": false,
    "memoryGiB": 4,
    "name": "ml.c5.large",
    "vcpuNum": 2
   },
   {
    "_defaultOrder": 22,
    "_isFastLaunch": false,
    "category": "Compute optimized",
    "gpuNum": 0,
    "hideHardwareSpecs": false,
    "memoryGiB": 8,
    "name": "ml.c5.xlarge",
    "vcpuNum": 4
   },
   {
    "_defaultOrder": 23,
    "_isFastLaunch": false,
    "category": "Compute optimized",
    "gpuNum": 0,
    "hideHardwareSpecs": false,
    "memoryGiB": 16,
    "name": "ml.c5.2xlarge",
    "vcpuNum": 8
   },
   {
    "_defaultOrder": 24,
    "_isFastLaunch": false,
    "category": "Compute optimized",
    "gpuNum": 0,
    "hideHardwareSpecs": false,
    "memoryGiB": 32,
    "name": "ml.c5.4xlarge",
    "vcpuNum": 16
   },
   {
    "_defaultOrder": 25,
    "_isFastLaunch": false,
    "category": "Compute optimized",
    "gpuNum": 0,
    "hideHardwareSpecs": false,
    "memoryGiB": 72,
    "name": "ml.c5.9xlarge",
    "vcpuNum": 36
   },
   {
    "_defaultOrder": 26,
    "_isFastLaunch": false,
    "category": "Compute optimized",
    "gpuNum": 0,
    "hideHardwareSpecs": false,
    "memoryGiB": 96,
    "name": "ml.c5.12xlarge",
    "vcpuNum": 48
   },
   {
    "_defaultOrder": 27,
    "_isFastLaunch": false,
    "category": "Compute optimized",
    "gpuNum": 0,
    "hideHardwareSpecs": false,
    "memoryGiB": 144,
    "name": "ml.c5.18xlarge",
    "vcpuNum": 72
   },
   {
    "_defaultOrder": 28,
    "_isFastLaunch": false,
    "category": "Compute optimized",
    "gpuNum": 0,
    "hideHardwareSpecs": false,
    "memoryGiB": 192,
    "name": "ml.c5.24xlarge",
    "vcpuNum": 96
   },
   {
    "_defaultOrder": 29,
    "_isFastLaunch": true,
    "category": "Accelerated computing",
    "gpuNum": 1,
    "hideHardwareSpecs": false,
    "memoryGiB": 16,
    "name": "ml.g4dn.xlarge",
    "vcpuNum": 4
   },
   {
    "_defaultOrder": 30,
    "_isFastLaunch": false,
    "category": "Accelerated computing",
    "gpuNum": 1,
    "hideHardwareSpecs": false,
    "memoryGiB": 32,
    "name": "ml.g4dn.2xlarge",
    "vcpuNum": 8
   },
   {
    "_defaultOrder": 31,
    "_isFastLaunch": false,
    "category": "Accelerated computing",
    "gpuNum": 1,
    "hideHardwareSpecs": false,
    "memoryGiB": 64,
    "name": "ml.g4dn.4xlarge",
    "vcpuNum": 16
   },
   {
    "_defaultOrder": 32,
    "_isFastLaunch": false,
    "category": "Accelerated computing",
    "gpuNum": 1,
    "hideHardwareSpecs": false,
    "memoryGiB": 128,
    "name": "ml.g4dn.8xlarge",
    "vcpuNum": 32
   },
   {
    "_defaultOrder": 33,
    "_isFastLaunch": false,
    "category": "Accelerated computing",
    "gpuNum": 4,
    "hideHardwareSpecs": false,
    "memoryGiB": 192,
    "name": "ml.g4dn.12xlarge",
    "vcpuNum": 48
   },
   {
    "_defaultOrder": 34,
    "_isFastLaunch": false,
    "category": "Accelerated computing",
    "gpuNum": 1,
    "hideHardwareSpecs": false,
    "memoryGiB": 256,
    "name": "ml.g4dn.16xlarge",
    "vcpuNum": 64
   },
   {
    "_defaultOrder": 35,
    "_isFastLaunch": false,
    "category": "Accelerated computing",
    "gpuNum": 1,
    "hideHardwareSpecs": false,
    "memoryGiB": 61,
    "name": "ml.p3.2xlarge",
    "vcpuNum": 8
   },
   {
    "_defaultOrder": 36,
    "_isFastLaunch": false,
    "category": "Accelerated computing",
    "gpuNum": 4,
    "hideHardwareSpecs": false,
    "memoryGiB": 244,
    "name": "ml.p3.8xlarge",
    "vcpuNum": 32
   },
   {
    "_defaultOrder": 37,
    "_isFastLaunch": false,
    "category": "Accelerated computing",
    "gpuNum": 8,
    "hideHardwareSpecs": false,
    "memoryGiB": 488,
    "name": "ml.p3.16xlarge",
    "vcpuNum": 64
   },
   {
    "_defaultOrder": 38,
    "_isFastLaunch": false,
    "category": "Accelerated computing",
    "gpuNum": 8,
    "hideHardwareSpecs": false,
    "memoryGiB": 768,
    "name": "ml.p3dn.24xlarge",
    "vcpuNum": 96
   },
   {
    "_defaultOrder": 39,
    "_isFastLaunch": false,
    "category": "Memory Optimized",
    "gpuNum": 0,
    "hideHardwareSpecs": false,
    "memoryGiB": 16,
    "name": "ml.r5.large",
    "vcpuNum": 2
   },
   {
    "_defaultOrder": 40,
    "_isFastLaunch": false,
    "category": "Memory Optimized",
    "gpuNum": 0,
    "hideHardwareSpecs": false,
    "memoryGiB": 32,
    "name": "ml.r5.xlarge",
    "vcpuNum": 4
   },
   {
    "_defaultOrder": 41,
    "_isFastLaunch": false,
    "category": "Memory Optimized",
    "gpuNum": 0,
    "hideHardwareSpecs": false,
    "memoryGiB": 64,
    "name": "ml.r5.2xlarge",
    "vcpuNum": 8
   },
   {
    "_defaultOrder": 42,
    "_isFastLaunch": false,
    "category": "Memory Optimized",
    "gpuNum": 0,
    "hideHardwareSpecs": false,
    "memoryGiB": 128,
    "name": "ml.r5.4xlarge",
    "vcpuNum": 16
   },
   {
    "_defaultOrder": 43,
    "_isFastLaunch": false,
    "category": "Memory Optimized",
    "gpuNum": 0,
    "hideHardwareSpecs": false,
    "memoryGiB": 256,
    "name": "ml.r5.8xlarge",
    "vcpuNum": 32
   },
   {
    "_defaultOrder": 44,
    "_isFastLaunch": false,
    "category": "Memory Optimized",
    "gpuNum": 0,
    "hideHardwareSpecs": false,
    "memoryGiB": 384,
    "name": "ml.r5.12xlarge",
    "vcpuNum": 48
   },
   {
    "_defaultOrder": 45,
    "_isFastLaunch": false,
    "category": "Memory Optimized",
    "gpuNum": 0,
    "hideHardwareSpecs": false,
    "memoryGiB": 512,
    "name": "ml.r5.16xlarge",
    "vcpuNum": 64
   },
   {
    "_defaultOrder": 46,
    "_isFastLaunch": false,
    "category": "Memory Optimized",
    "gpuNum": 0,
    "hideHardwareSpecs": false,
    "memoryGiB": 768,
    "name": "ml.r5.24xlarge",
    "vcpuNum": 96
   },
   {
    "_defaultOrder": 47,
    "_isFastLaunch": false,
    "category": "Accelerated computing",
    "gpuNum": 1,
    "hideHardwareSpecs": false,
    "memoryGiB": 16,
    "name": "ml.g5.xlarge",
    "vcpuNum": 4
   },
   {
    "_defaultOrder": 48,
    "_isFastLaunch": false,
    "category": "Accelerated computing",
    "gpuNum": 1,
    "hideHardwareSpecs": false,
    "memoryGiB": 32,
    "name": "ml.g5.2xlarge",
    "vcpuNum": 8
   },
   {
    "_defaultOrder": 49,
    "_isFastLaunch": false,
    "category": "Accelerated computing",
    "gpuNum": 1,
    "hideHardwareSpecs": false,
    "memoryGiB": 64,
    "name": "ml.g5.4xlarge",
    "vcpuNum": 16
   },
   {
    "_defaultOrder": 50,
    "_isFastLaunch": false,
    "category": "Accelerated computing",
    "gpuNum": 1,
    "hideHardwareSpecs": false,
    "memoryGiB": 128,
    "name": "ml.g5.8xlarge",
    "vcpuNum": 32
   },
   {
    "_defaultOrder": 51,
    "_isFastLaunch": false,
    "category": "Accelerated computing",
    "gpuNum": 1,
    "hideHardwareSpecs": false,
    "memoryGiB": 256,
    "name": "ml.g5.16xlarge",
    "vcpuNum": 64
   },
   {
    "_defaultOrder": 52,
    "_isFastLaunch": false,
    "category": "Accelerated computing",
    "gpuNum": 4,
    "hideHardwareSpecs": false,
    "memoryGiB": 192,
    "name": "ml.g5.12xlarge",
    "vcpuNum": 48
   },
   {
    "_defaultOrder": 53,
    "_isFastLaunch": false,
    "category": "Accelerated computing",
    "gpuNum": 4,
    "hideHardwareSpecs": false,
    "memoryGiB": 384,
    "name": "ml.g5.24xlarge",
    "vcpuNum": 96
   },
   {
    "_defaultOrder": 54,
    "_isFastLaunch": false,
    "category": "Accelerated computing",
    "gpuNum": 8,
    "hideHardwareSpecs": false,
    "memoryGiB": 768,
    "name": "ml.g5.48xlarge",
    "vcpuNum": 192
   },
   {
    "_defaultOrder": 55,
    "_isFastLaunch": false,
    "category": "Accelerated computing",
    "gpuNum": 8,
    "hideHardwareSpecs": false,
    "memoryGiB": 1152,
    "name": "ml.p4d.24xlarge",
    "vcpuNum": 96
   },
   {
    "_defaultOrder": 56,
    "_isFastLaunch": false,
    "category": "Accelerated computing",
    "gpuNum": 8,
    "hideHardwareSpecs": false,
    "memoryGiB": 1152,
    "name": "ml.p4de.24xlarge",
    "vcpuNum": 96
   },
   {
    "_defaultOrder": 57,
    "_isFastLaunch": false,
    "category": "Accelerated computing",
    "gpuNum": 0,
    "hideHardwareSpecs": false,
    "memoryGiB": 32,
    "name": "ml.trn1.2xlarge",
    "vcpuNum": 8
   },
   {
    "_defaultOrder": 58,
    "_isFastLaunch": false,
    "category": "Accelerated computing",
    "gpuNum": 0,
    "hideHardwareSpecs": false,
    "memoryGiB": 512,
    "name": "ml.trn1.32xlarge",
    "vcpuNum": 128
   },
   {
    "_defaultOrder": 59,
    "_isFastLaunch": false,
    "category": "Accelerated computing",
    "gpuNum": 0,
    "hideHardwareSpecs": false,
    "memoryGiB": 512,
    "name": "ml.trn1n.32xlarge",
    "vcpuNum": 128
   }
  ],
  "instance_type": "ml.t3.medium",
  "kernelspec": {
   "display_name": "Python 3 (Data Science 3.0)",
   "language": "python",
   "name": "python3__SAGEMAKER_INTERNAL__arn:aws:sagemaker:us-east-1:081325390199:image/sagemaker-data-science-310-v1"
  },
  "language_info": {
   "codemirror_mode": {
    "name": "ipython",
    "version": 3
   },
   "file_extension": ".py",
   "mimetype": "text/x-python",
   "name": "python",
   "nbconvert_exporter": "python",
   "pygments_lexer": "ipython3",
   "version": "3.10.6"
  }
 },
 "nbformat": 4,
 "nbformat_minor": 5
}
