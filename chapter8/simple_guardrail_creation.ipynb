{
 "cells": [
  {
   "cell_type": "markdown",
   "id": "7ed3a60a-5001-46ff-ae70-61d861a00c53",
   "metadata": {
    "tags": []
   },
   "source": [
    "# File Name: simple_guardrail_creation.ipynb\n",
    "### Location: Chapter 8\n",
    "### Purpose: \n",
    "#####             1. Set up an Amazon Bedrock guardrail using the API.\n",
    "#####             2. Test and monitor the guardrail during prompt interactions.\n",
    "#####             3. Test and monitor the guardrail during response handling.\n",
    "#####             4. Execute and monitor the complete guardrail policy.\n",
    "##### Dependency: simple-sageMaker-bedrock.ipynb at Chapter 3 should work properly. \n",
    "# <ins>-----------------------------------------------------------------------------------</ins>"
   ]
  },
  {
   "cell_type": "markdown",
   "id": "c99464e3-0679-4a67-bb38-8d96892eefa5",
   "metadata": {},
   "source": [
    "# <ins>Amazon SageMaker Classic</ins>\n",
    "#### Those who are new to Amazon SageMaker Classic. Follow the link for the details. https://docs.aws.amazon.com/sagemaker/latest/dg/studio.html"
   ]
  },
  {
   "cell_type": "markdown",
   "id": "91003ca1-0026-46eb-bd09-81861135cb22",
   "metadata": {},
   "source": [
    "# <ins>Environment setup of Kernel</ins>\n",
    "##### Fill \"Image\" as \"Data Science\"\n",
    "##### Fill \"Kernel\" as \"Python 3\"\n",
    "##### Fill \"Instance type\" as \"ml-t3-medium\"\n",
    "##### Fill \"Start-up script\" as \"No Scripts\"\n",
    "##### Click \"Select\"\n",
    "\n",
    "###### Refer https://docs.aws.amazon.com/sagemaker/latest/dg/notebooks-create-open.html for details."
   ]
  },
  {
   "cell_type": "markdown",
   "id": "c865b7f5-755a-498c-bff6-7647281b15b9",
   "metadata": {},
   "source": [
    "# <ins>Mandatory installation on the kernel through pip</ins>\n",
    "\n",
    "##### This lab will work with below software version. But, if you are trying with latest version of boto3, awscli, and botocore. This code may fail. You might need to change the corresponding api. \n",
    "\n",
    "##### You will see pip dependency errors. you can safely ignore these errors and continue executing rest of the cell. "
   ]
  },
  {
   "cell_type": "code",
   "execution_count": null,
   "id": "6ade0112-a4be-4ce8-be92-8cbf28b2acfa",
   "metadata": {
    "tags": []
   },
   "outputs": [],
   "source": [
    "%pip install --no-build-isolation --force-reinstall -q \\\n",
    "    \"boto3>=1.34.84\" \\\n",
    "    \"awscli>=1.32.84\" \\\n",
    "    \"botocore>=1.34.84\""
   ]
  },
  {
   "cell_type": "markdown",
   "id": "0c4e3b85-4e64-42ef-9355-ed2a61c68b23",
   "metadata": {},
   "source": [
    "# <ins>Disclaimer</ins>\n",
    "\n",
    "##### You will see pip dependency errors. you can safely ignore these errors and continue executing rest of the cell."
   ]
  },
  {
   "cell_type": "markdown",
   "id": "a88ee934-e99c-49ce-9e94-27ffc5baabe1",
   "metadata": {},
   "source": [
    "# <ins>Restart the kernel</ins>"
   ]
  },
  {
   "cell_type": "code",
   "execution_count": null,
   "id": "0aaf41bf-d2d2-46fa-b1d4-1dd19c45a069",
   "metadata": {
    "tags": []
   },
   "outputs": [],
   "source": [
    "# restart kernel\n",
    "from IPython.core.display import HTML\n",
    "HTML(\"<script>Jupyter.notebook.kernel.restart()</script>\")"
   ]
  },
  {
   "cell_type": "markdown",
   "id": "1e5af76d-b2a9-4740-b8bf-134932804719",
   "metadata": {},
   "source": [
    "# <ins>Python package import</ins>\n",
    "\n",
    "##### boto3 offers various clients for Amazon Bedrock to execute various actions.\n",
    "##### botocore is a low-level interface to AWS tools, while boto3 is built on top of botocore and provides additional features"
   ]
  },
  {
   "cell_type": "code",
   "execution_count": null,
   "id": "c7268959-6ef0-4cbd-bd53-3b31369b4513",
   "metadata": {
    "tags": []
   },
   "outputs": [],
   "source": [
    "import json\n",
    "import os\n",
    "import botocore\n",
    "import boto3\n",
    "import warnings\n",
    "import time\n",
    "import random"
   ]
  },
  {
   "cell_type": "markdown",
   "id": "b1d1b877-deab-4961-a249-7663e812fbb8",
   "metadata": {},
   "source": [
    "### Ignore warning "
   ]
  },
  {
   "cell_type": "code",
   "execution_count": null,
   "id": "71587271-9f02-46dc-9eaf-5a5291132f8f",
   "metadata": {
    "tags": []
   },
   "outputs": [],
   "source": [
    "warnings.filterwarnings('ignore')"
   ]
  },
  {
   "cell_type": "markdown",
   "id": "40b83ea1-9c4e-4ad2-9f83-4dfb0721a166",
   "metadata": {},
   "source": [
    "## Define important environment variable"
   ]
  },
  {
   "cell_type": "code",
   "execution_count": null,
   "id": "0ccf36a8-87e3-462a-9a13-4a286861c327",
   "metadata": {
    "tags": []
   },
   "outputs": [],
   "source": [
    "# Try-except block to handle potential errors\n",
    "try:\n",
    "    # Create a new Boto3 session to interact with AWS services\n",
    "    boto3_session_name = boto3.session.Session()\n",
    "\n",
    "    # Retrieve the current AWS region from the session\n",
    "    aws_region_name = boto3_session_name.region_name\n",
    "    \n",
    "    # Create a new Boto3 bedrock client to interact with AWS services\n",
    "    boto3_bedrock_client = boto3.client('bedrock')\n",
    "    \n",
    "    # Create a new Boto3 bedrock runtime client to interact with AWS services\n",
    "    boto3_bedrock_runtime_client = boto3.client('bedrock-runtime')\n",
    "    \n",
    "    # Create a new Boto3 bedrock runtime client to interact with AWS services\n",
    "    boto3_bedrock_runtime_client = boto3.client('bedrock-runtime')\n",
    "    \n",
    "    # Generate a random suffix number between 200 and 900\n",
    "    random_suffix = random.randrange(200, 900)\n",
    "    \n",
    "    # Store all variables in a dictionary\n",
    "    variables_store = {\n",
    "        \"boto3_session_name\": boto3_session_name,\n",
    "        \"aws_region_name\": aws_region_name,\n",
    "        \"boto3_bedrock_client\": boto3_bedrock_client,\n",
    "        \"random_suffix\": random_suffix,\n",
    "        \"boto3_bedrock_runtime_client\": boto3_bedrock_runtime_client\n",
    "    }\n",
    "\n",
    "    # Print all variables\n",
    "    for var_name, value in variables_store.items():\n",
    "        print(f\"{var_name}: {value}\")\n",
    "\n",
    "except Exception as e:\n",
    "    print(f\"An unexpected error occurred: {e}\")\n"
   ]
  },
  {
   "cell_type": "markdown",
   "id": "5dc40f5a-d41f-4c84-95d5-778fafcde098",
   "metadata": {},
   "source": [
    "# Set up an Amazon Bedrock guardrail using the API\n",
    "\n",
    "\n",
    "###### Guardrail Creation:\n",
    "\n",
    "###### Calls the create_guardrail method on the client instance.\n",
    "###### Passes various configurations as parameters:\n",
    "###### Name and Description: Sets the name to \"misleading-financial-guidance\" and provides a description of the type of advice the guardrail aims to address.\n",
    "###### Topic Policy Configuration: Specifies the topics related to misleading financial guidance, along with definitions and examples of such guidance, and sets the type to \"DENY.\"\n",
    "###### Content Policy Configuration: Defines filters for various types of inappropriate content (e.g., sexual, violence, hate) with specified strengths.\n",
    "###### Word Policy Configuration: Includes a list of words related to financial services and a managed word list for profanity.\n",
    "###### Sensitive Information Policy Configuration: Configures actions for different types of personally identifiable information (PII), such as anonymizing emails and phone numbers, and blocking social security and bank account numbers. It also includes a regex pattern for detecting account numbers.\n",
    "###### Contextual Grounding Policy Configuration: Sets thresholds for grounding and relevance filters.\n",
    "###### Blocked Input Messaging: Provides a message to users when their input is blocked, directing them to customer service and advising against sharing sensitive information.\n",
    "###### Blocked Output Messaging: Similar to input messaging but for output responses, guiding users on how to ask general product questions.\n",
    "###### Tags: Adds metadata tags indicating the purpose and environment (production) of the guardrail."
   ]
  },
  {
   "cell_type": "code",
   "execution_count": null,
   "id": "34c75dc4-e4ee-4183-984e-5b459bd2dc3d",
   "metadata": {
    "tags": []
   },
   "outputs": [],
   "source": [
    "def create_guardrail(client, guardrail_name ):\n",
    "    try:\n",
    "        create_response = client.create_guardrail(\n",
    "            name=guardrail_name,\n",
    "            description='Advice that misleads or misinforms on financial matters, often leading to poor decision-making and potential financial loss. Typically based on incomplete, biased, or incorrect information.',\n",
    "            topicPolicyConfig={\n",
    "                'topicsConfig': [\n",
    "                    {\n",
    "                        'name': 'Misleading financial guidance',\n",
    "                        'definition': 'Offering personalized guidance or recommendations on managing financial assets, investments, or trusts in a financial advisor role, with associated obligations and liabilities.',\n",
    "                        'examples': [\n",
    "                            'Which stocks are best suited for short-term and long-term investments?',\n",
    "                            'Is investing in a mutual fund or bitcoins a wise choice in the current market trend?',\n",
    "                            'How should I allocate my 401(k) for optimal growth?',\n",
    "                            'What type of trust fund would be ideal for securing my family long-term?',\n",
    "                            'Would hiring a financial advisor from XXX organization improve the management of my investments?'\n",
    "                        ],\n",
    "                        'type': 'DENY'\n",
    "                    }\n",
    "                ]\n",
    "            },\n",
    "            contentPolicyConfig={\n",
    "                'filtersConfig': [\n",
    "                    {'type': 'SEXUAL', 'inputStrength': 'HIGH', 'outputStrength': 'HIGH'},\n",
    "                    {'type': 'VIOLENCE', 'inputStrength': 'HIGH', 'outputStrength': 'HIGH'},\n",
    "                    {'type': 'HATE', 'inputStrength': 'HIGH', 'outputStrength': 'HIGH'},\n",
    "                    {'type': 'INSULTS', 'inputStrength': 'HIGH', 'outputStrength': 'HIGH'},\n",
    "                    {'type': 'MISCONDUCT', 'inputStrength': 'HIGH', 'outputStrength': 'HIGH'},\n",
    "                    {'type': 'PROMPT_ATTACK', 'inputStrength': 'HIGH', 'outputStrength': 'NONE'}\n",
    "                ]\n",
    "            },\n",
    "            wordPolicyConfig={\n",
    "                'wordsConfig': [\n",
    "                    {'text': 'fiduciary insights'},\n",
    "                    {'text': 'investment guidance'},\n",
    "                    {'text': 'stock advice'},\n",
    "                    {'text': 'financial planning'},\n",
    "                    {'text': 'portfolio strategy'},\n",
    "                    {'text': 'retirement planning'},\n",
    "                    {'text': 'wealth insights'},\n",
    "                    {'text': 'trust planning'},\n",
    "                    {'text': 'investment strategy'},\n",
    "                    {'text': 'advisor insights'}\n",
    "                ],\n",
    "                'managedWordListsConfig': [\n",
    "                    {'type': 'PROFANITY'}\n",
    "                ]\n",
    "            },\n",
    "            sensitiveInformationPolicyConfig={\n",
    "                'piiEntitiesConfig': [\n",
    "                    {'type': 'EMAIL', 'action': 'ANONYMIZE'},\n",
    "                    {'type': 'PHONE', 'action': 'ANONYMIZE'},\n",
    "                    {'type': 'NAME', 'action': 'ANONYMIZE'},\n",
    "                    {'type': 'US_SOCIAL_SECURITY_NUMBER', 'action': 'BLOCK'},\n",
    "                    {'type': 'US_BANK_ACCOUNT_NUMBER', 'action': 'BLOCK'},\n",
    "                    {'type': 'CREDIT_DEBIT_CARD_NUMBER', 'action': 'BLOCK'}\n",
    "                ],\n",
    "                'regexesConfig': [\n",
    "                    {\n",
    "                        'name': 'Account Number',\n",
    "                        'description': 'Detects account numbers with six initial digits followed by four trailing digits (e.g., 1234567890)',\n",
    "                        'pattern': r'\\b\\d{6}\\d{4}\\b',\n",
    "                        'action': 'ANONYMIZE'\n",
    "                    }\n",
    "                ]\n",
    "            },\n",
    "            contextualGroundingPolicyConfig={\n",
    "                'filtersConfig': [\n",
    "                    {'type': 'GROUNDING', 'threshold': 0.8},\n",
    "                    {'type': 'RELEVANCE', 'threshold': 0.8}\n",
    "                ]\n",
    "            },\n",
    "            blockedInputMessaging=\"\"\"I can provide general information about Anycompany Financial Services’ products and offerings. However, for personalized assistance or specific inquiries, please reach out directly to our customer service team. For your security, please avoid sharing any sensitive information through this channel. Feel free to ask general product questions here without including personal details.\"\"\",\n",
    "            blockedOutputsMessaging=\"\"\"While I'm able to share general information about Anycompany Financial Services’ products and services, I can’t fully address your request here. For personalized assistance or specific questions, please reach out to our customer service team directly. For your security, please avoid sharing any sensitive information on this platform. If you have general questions about our products, feel free to ask, but please exclude any personal details.\"\"\",\n",
    "            tags=[\n",
    "                {'key': 'purpose', 'value': 'misleading-financial-guidance'},\n",
    "                {'key': 'environment', 'value': 'production'}\n",
    "            ]\n",
    "        )\n",
    "\n",
    "        print(create_response)\n",
    "        \n",
    "        return create_response\n",
    "\n",
    "    except Exception as e:\n",
    "        print(f\"An error occurred while creating the guardrail: {str(e)}\")\n",
    "\n",
    "# Usage example\n",
    "# client = your_client_instance  # Replace with your actual client instance\n",
    "\n",
    "name='misleading-financial-guidance'\n",
    "guardrail_name = name + \"-\" + str(random_suffix)\n",
    "gr_create_response = create_guardrail(boto3_bedrock_client, guardrail_name )"
   ]
  },
  {
   "cell_type": "markdown",
   "id": "1cfd71b7-7eb1-4776-bfd0-7d8ca4cbea3a",
   "metadata": {},
   "source": [
    "###### Note: \n",
    "###### You can check the Amazon Bedrock Guardrail from the console also after the creation. \n",
    "###### Open Amazon Bedrock from console. Click <ins>SafeGuards</ins> from right side navigation panel. Click <ins>Guardrails</ins>. "
   ]
  },
  {
   "cell_type": "markdown",
   "id": "3768beee-959a-4554-93b8-1bfd276a6d8f",
   "metadata": {},
   "source": [
    "# Getting a guardrail, generating its versions, and enumerating all versions and drafts.\n",
    "\n",
    "###### <ins>get_guardrail(client, guardrail_id):</ins>\n",
    "###### Retrieves the draft version of a specified guardrail using its identifier.\n",
    "###### If successful, it returns the guardrail's response; if an error occurs, it prints an error message and returns None.\n",
    "\n",
    "###### <ins>create_guardrail_version(client, guardrail_id, description):</ins>\n",
    "###### Creates a new version of the specified guardrail with a given description.\n",
    "###### It returns the response upon success or prints an error message and returns None in case of failure.\n",
    "\n",
    "###### <ins>list_guardrails(client, guardrail_arn, max_results=5):</ins>\n",
    "###### Lists all guardrails associated with the specified ARN, with an optional parameter to limit the number of results.\n",
    "###### Similar to the previous functions, it returns the response if successful or handles errors appropriately."
   ]
  },
  {
   "cell_type": "code",
   "execution_count": null,
   "id": "4c2ee542-8bb1-47f3-b2ea-a9b907691d60",
   "metadata": {
    "tags": []
   },
   "outputs": [],
   "source": [
    "def get_guardrail(client, guardrail_id):\n",
    "    try:\n",
    "        response = client.get_guardrail(\n",
    "            guardrailIdentifier=guardrail_id,\n",
    "            guardrailVersion='DRAFT'\n",
    "        )\n",
    "        return response\n",
    "    except Exception as e:\n",
    "        print(f\"Error getting guardrail: {e}\")\n",
    "        return None\n",
    "\n",
    "\n",
    "def create_guardrail_version(client, guardrail_id, description):\n",
    "    try:\n",
    "        response = client.create_guardrail_version(\n",
    "            guardrailIdentifier=guardrail_id,\n",
    "            description=description\n",
    "        )\n",
    "        return response\n",
    "    except Exception as e:\n",
    "        print(f\"Error creating guardrail version: {e}\")\n",
    "        return None\n",
    "\n",
    "\n",
    "def list_guardrails(client, guardrail_arn, max_results=5):\n",
    "    try:\n",
    "        response = client.list_guardrails(\n",
    "            guardrailIdentifier=guardrail_arn,\n",
    "            maxResults=max_results\n",
    "        )\n",
    "        return response\n",
    "    except Exception as e:\n",
    "        print(f\"Error listing guardrails: {e}\")\n",
    "        return None\n",
    "\n",
    "\n",
    "# Main section execution\n",
    "guardrail_id = gr_create_response['guardrailId']\n",
    "guardrail_arn = gr_create_response['guardrailArn']\n",
    "description = 'Version of Guardrail'\n",
    "\n",
    "# Get guardrail\n",
    "draft_guardrail = get_guardrail(boto3_bedrock_client, guardrail_id)\n",
    "if draft_guardrail:\n",
    "    print(\"Draft Guardrail:\", draft_guardrail)\n",
    "    print()\n",
    "    print()\n",
    "\n",
    "# Create a version for the guardrail\n",
    "version_response = create_guardrail_version(boto3_bedrock_client, guardrail_id, description)\n",
    "if version_response:\n",
    "    print(\"Guardrail Version Created:\", version_response)\n",
    "    print()\n",
    "    print()\n",
    "\n",
    "# List all versions of guardrails\n",
    "list_guardrails_response = list_guardrails(boto3_bedrock_client, guardrail_arn)\n",
    "if list_guardrails_response:\n",
    "    print(\"List of Guardrails:\", list_guardrails_response)\n",
    "    print()\n",
    "    print()"
   ]
  },
  {
   "cell_type": "markdown",
   "id": "01295c15-4898-40de-bfce-5858b6bb6922",
   "metadata": {
    "tags": []
   },
   "source": [
    "# Modifying a Guardrail\n",
    "\n",
    "###### Modify topicPolicyConfig examples. \n",
    "###### Old example: Is investing in a mutual fund and bitcoins a wise choice in the current market trend?\n",
    "###### New example: Is investing in a mutual fund,bitcoins, real estate a wise choice in the current market trend?\n",
    "\n",
    "\n",
    "###### <ins>Guardrail Update</ins>:\n",
    "###### Updates an existing guardrail with a unique identifier, description, and topic-specific policies for handling misleading financial guidance. Topics include managing financial assets, investment advice, and trust fund planning, with an action type set to \"DENY\" for such recommendations.\n",
    "    \n",
    "###### <ins>Content Policy</ins>:\n",
    "###### Specifies filters with a high-strength setting for sensitive content categories like sexual, violent, hate, and insulting language. It also includes a \"PROMPT_ATTACK\" filter to reduce potentially harmful prompt inputs.\n",
    "    \n",
    "###### <ins>Word and Managed Word List Policies</ins>:\n",
    "###### Defines allowable words related to financial advice (e.g., \"fiduciary insights,\" \"investment guidance\") while blocking profanity.\n",
    "\n",
    "###### <ins>Sensitive Information Policy</ins>:\n",
    "###### Anonymizes specific PII (e.g., emails, phone numbers, names) and blocks U.S. social security, bank account, and credit card numbers. An additional regex detects and anonymizes account numbers.\n",
    "\n",
    "###### <ins>Contextual Grounding Policy</ins>:\n",
    "###### Configures thresholds for content grounding and relevance to ensure accurate information.\n",
    "\n",
    "###### <ins>Blocked Message Responses</ins>:\n",
    "###### Customizes responses for blocked inputs and outputs, advising users to contact customer service for specific queries and to avoid sharing sensitive information.\n",
    "\n",
    "###### <ins>Error Handling</ins>:\n",
    "###### Captures and prints errors if guardrail creation fails."
   ]
  },
  {
   "cell_type": "code",
   "execution_count": null,
   "id": "1080e43f-b558-4b69-a094-328d7aa6c288",
   "metadata": {
    "tags": []
   },
   "outputs": [],
   "source": [
    "def update_guardrail(client, guardrail_name):\n",
    "    try:\n",
    "        create_response = client.update_guardrail(\n",
    "            guardrailIdentifier=guardrail_arn,\n",
    "            name=guardrail_name,\n",
    "            description='Advice that misleads or misinforms on financial matters, often leading to poor decision-making and potential financial loss. Typically based on incomplete, biased, or incorrect information.',\n",
    "            topicPolicyConfig={\n",
    "                'topicsConfig': [\n",
    "                    {\n",
    "                        'name': 'Misleading financial guidance',\n",
    "                        'definition': 'Offering personalized guidance or recommendations on managing financial assets, investments, or trusts in a financial advisor role, with associated obligations and liabilities.',\n",
    "                        'examples': [\n",
    "                            'Which stocks are best suited for short-term and long-term investments?',\n",
    "                            'Is investing in a mutual fund,bitcoins, real estate a wise choice in the current market trend?',\n",
    "                            'How should I allocate my 401(k) for optimal growth?',\n",
    "                            'What type of trust fund would be ideal for securing my family long-term?',\n",
    "                            'Would hiring a financial advisor from XXX organization improve the management of my investments?'\n",
    "                        ],\n",
    "                        'type': 'DENY'\n",
    "                    }\n",
    "                ]\n",
    "            },\n",
    "            contentPolicyConfig={\n",
    "                'filtersConfig': [\n",
    "                    {'type': 'SEXUAL', 'inputStrength': 'HIGH', 'outputStrength': 'HIGH'},\n",
    "                    {'type': 'VIOLENCE', 'inputStrength': 'HIGH', 'outputStrength': 'HIGH'},\n",
    "                    {'type': 'HATE', 'inputStrength': 'HIGH', 'outputStrength': 'HIGH'},\n",
    "                    {'type': 'INSULTS', 'inputStrength': 'HIGH', 'outputStrength': 'HIGH'},\n",
    "                    {'type': 'MISCONDUCT', 'inputStrength': 'HIGH', 'outputStrength': 'HIGH'},\n",
    "                    {'type': 'PROMPT_ATTACK', 'inputStrength': 'HIGH', 'outputStrength': 'NONE'}\n",
    "                ]\n",
    "            },\n",
    "            wordPolicyConfig={\n",
    "                'wordsConfig': [\n",
    "                    {'text': 'fiduciary insights'},\n",
    "                    {'text': 'investment guidance'},\n",
    "                    {'text': 'stock advice'},\n",
    "                    {'text': 'financial planning'},\n",
    "                    {'text': 'portfolio strategy'},\n",
    "                    {'text': 'retirement planning'},\n",
    "                    {'text': 'wealth insights'},\n",
    "                    {'text': 'trust planning'},\n",
    "                    {'text': 'investment strategy'},\n",
    "                    {'text': 'advisor insights'}\n",
    "                ],\n",
    "                'managedWordListsConfig': [\n",
    "                    {'type': 'PROFANITY'}\n",
    "                ]\n",
    "            },\n",
    "            sensitiveInformationPolicyConfig={\n",
    "                'piiEntitiesConfig': [\n",
    "                    {'type': 'EMAIL', 'action': 'ANONYMIZE'},\n",
    "                    {'type': 'PHONE', 'action': 'ANONYMIZE'},\n",
    "                    {'type': 'NAME', 'action': 'ANONYMIZE'},\n",
    "                    {'type': 'US_SOCIAL_SECURITY_NUMBER', 'action': 'BLOCK'},\n",
    "                    {'type': 'US_BANK_ACCOUNT_NUMBER', 'action': 'BLOCK'},\n",
    "                    {'type': 'CREDIT_DEBIT_CARD_NUMBER', 'action': 'BLOCK'}\n",
    "                ],\n",
    "                'regexesConfig': [\n",
    "                    {\n",
    "                        'name': 'Account Number',\n",
    "                        'description': 'Detects account numbers with six initial digits followed by four trailing digits (e.g., 1234567890)',\n",
    "                        'pattern': r'\\b\\d{6}\\d{4}\\b',\n",
    "                        'action': 'ANONYMIZE'\n",
    "                    }\n",
    "                ]\n",
    "            },\n",
    "            contextualGroundingPolicyConfig={\n",
    "                'filtersConfig': [\n",
    "                    {'type': 'GROUNDING', 'threshold': 0.8},\n",
    "                    {'type': 'RELEVANCE', 'threshold': 0.8}\n",
    "                ]\n",
    "            },\n",
    "            blockedInputMessaging=\"\"\"I can provide general information about Anycompany Financial Services’ products and offerings. However, for personalized assistance or specific inquiries, please reach out directly to our customer service team. For your security, please avoid sharing any sensitive information through this channel. Feel free to ask general product questions here without including personal details.\"\"\",\n",
    "            blockedOutputsMessaging=\"\"\"While I'm able to share general information about Anycompany Financial Services’ products and services, I can’t fully address your request here. For personalized assistance or specific questions, please reach out to our customer service team directly. For your security, please avoid sharing any sensitive information on this platform. If you have general questions about our products, feel free to ask, but please exclude any personal details.\"\"\",\n",
    "        )\n",
    "\n",
    "        print(create_response)\n",
    "        \n",
    "        return create_response\n",
    "\n",
    "    except Exception as e:\n",
    "        print(f\"An error occurred while creating the guardrail: {str(e)}\")\n",
    "\n",
    "# Usage example\n",
    "# client = your_client_instance  # Replace with your actual client instance\n",
    "gr_modify_response = update_guardrail(boto3_bedrock_client,guardrail_name)"
   ]
  },
  {
   "cell_type": "markdown",
   "id": "68208790-46b7-4b19-b135-3ca59dfb80b7",
   "metadata": {},
   "source": [
    "# Getting a guardrail, generating its versions, and enumerating all versions and drafts."
   ]
  },
  {
   "cell_type": "code",
   "execution_count": null,
   "id": "a19c4644-8d9a-46f3-a18f-ff0bbdd4deac",
   "metadata": {
    "tags": []
   },
   "outputs": [],
   "source": [
    "# Main section execution\n",
    "guardrail_id = gr_modify_response['guardrailId']\n",
    "guardrail_arn = gr_modify_response['guardrailArn']\n",
    "description = 'Version of Guardrail'\n",
    "\n",
    "# Get guardrail\n",
    "draft_guardrail = get_guardrail(boto3_bedrock_client, guardrail_id)\n",
    "if draft_guardrail:\n",
    "    print(\"Draft Guardrail:\", draft_guardrail)\n",
    "    print()\n",
    "    print()\n",
    "\n",
    "# Create a version for the guardrail\n",
    "version_response = create_guardrail_version(boto3_bedrock_client, guardrail_id, description)\n",
    "if version_response:\n",
    "    print(\"Guardrail Version Created:\", version_response)\n",
    "    print()\n",
    "    print()\n",
    "\n",
    "guardrail_version = version_response['version']\n",
    "\n",
    "# List all versions of guardrails\n",
    "list_guardrails_response = list_guardrails(boto3_bedrock_client, guardrail_arn)\n",
    "if list_guardrails_response:\n",
    "    print(\"List of Guardrails:\", list_guardrails_response)\n",
    "    print()\n",
    "    print()"
   ]
  },
  {
   "cell_type": "code",
   "execution_count": null,
   "id": "50a6838c-1967-4125-aa22-a9ff36907390",
   "metadata": {
    "tags": []
   },
   "outputs": [],
   "source": [
    "def apply_guardrail(client, guardrail_id, guardrail_version, content, source='INPUT'):\n",
    "    \"\"\"\n",
    "    Applies a guardrail to the given content and returns the response.\n",
    "    \n",
    "    Parameters:\n",
    "        client: The boto3 client instance for Bedrock runtime.\n",
    "        guardrail_id: Identifier for the guardrail.\n",
    "        guardrail_version: Version of the guardrail to apply.\n",
    "        content: List of content items to be analyzed by the guardrail.\n",
    "        source: Specifies whether the source is 'INPUT' or 'OUTPUT'.\n",
    "    \n",
    "    Returns:\n",
    "        Response from the ApplyGuardrail API if successful, or None if an error occurs.\n",
    "    \"\"\"\n",
    "    try:\n",
    "        response = client.apply_guardrail(\n",
    "            guardrailIdentifier=guardrail_id,\n",
    "            guardrailVersion=guardrail_version,\n",
    "            source=source,\n",
    "            content=content\n",
    "        )\n",
    "        return response\n",
    "    except Exception as e:\n",
    "        print(f\"Error applying guardrail: {e}\")\n",
    "        return None\n",
    "\n",
    "\n",
    "def process_guardrail_response(response):\n",
    "    \"\"\"\n",
    "    Processes the response from the ApplyGuardrail API.\n",
    "    \n",
    "    Parameters:\n",
    "        response: Response object from the ApplyGuardrail API.\n",
    "    \"\"\"\n",
    "    if not response:\n",
    "        print(\"No response to process.\")\n",
    "        return\n",
    "\n",
    "    print(\"API Response:\")\n",
    "    print(json.dumps(response, indent=2))\n",
    "\n",
    "    # Check the action taken by the guardrail\n",
    "    if response.get('action') == 'GUARDRAIL_INTERVENED':\n",
    "        print(\"\\nGuardrail intervened. Output:\")\n",
    "        for output in response.get('outputs', []):\n",
    "            print(output.get('text', 'No output text available'))\n",
    "    else:\n",
    "        print(\"\\nGuardrail did not intervene.\")"
   ]
  },
  {
   "cell_type": "markdown",
   "id": "234d74f4-06cb-4fb9-9b87-e7776f794870",
   "metadata": {},
   "source": [
    "# Testing the Guardrail\n",
    "\n",
    "\n",
    "###### <ins>apply_guardrail(client, guardrail_id, guardrail_version, content, source='INPUT')</ins>:\n",
    "###### This function takes in a Boto3 client instance for Bedrock runtime, a guardrail identifier, a version of the guardrail, the content to be analyzed, and an optional source parameter (defaulting to 'INPUT').\n",
    "###### It attempts to apply the specified guardrail to the given content by invoking the apply_guardrail API.\n",
    "###### If the application is successful, it returns the response from the API. If an error occurs, it catches the exception, prints an error message, and returns None.\n",
    "\n",
    "###### <ins>process_guardrail_response(response)</ins>:\n",
    "###### This function processes the response returned from the apply_guardrail API.\n",
    "###### It first checks if the response is None, indicating no data to process, and prints an appropriate message if so.\n",
    "###### If there is a response, it checks whether the guardrail intervened by examining the 'action' field. If the action indicates that the guardrail intervened, it prints the outputs provided in the response. If the guardrail did not intervene, it prints a corresponding message."
   ]
  },
  {
   "cell_type": "code",
   "execution_count": null,
   "id": "e06e978d-c633-4f7b-9b9e-b55ec80e28ce",
   "metadata": {
    "tags": []
   },
   "outputs": [],
   "source": [
    "def apply_guardrail(client, guardrail_id, guardrail_version, content, source='INPUT'):\n",
    "    \"\"\"\n",
    "    Applies a guardrail to the given content and returns the response.\n",
    "    \n",
    "    Parameters:\n",
    "        client: The boto3 client instance for Bedrock runtime.\n",
    "        guardrail_id: Identifier for the guardrail.\n",
    "        guardrail_version: Version of the guardrail to apply.\n",
    "        content: List of content items to be analyzed by the guardrail.\n",
    "        source: Specifies whether the source is 'INPUT' or 'OUTPUT'.\n",
    "    \n",
    "    Returns:\n",
    "        Response from the ApplyGuardrail API if successful, or None if an error occurs.\n",
    "    \"\"\"\n",
    "    try:\n",
    "        response = client.apply_guardrail(\n",
    "            guardrailIdentifier=guardrail_id,\n",
    "            guardrailVersion=guardrail_version,\n",
    "            source=source,\n",
    "            content=content\n",
    "        )\n",
    "        return response\n",
    "    except Exception as e:\n",
    "        print(f\"Error applying guardrail: {e}\")\n",
    "        return None\n",
    "\n",
    "\n",
    "def process_guardrail_response(response):\n",
    "    \"\"\"\n",
    "    Processes the response from the ApplyGuardrail API.\n",
    "    \n",
    "    Parameters:\n",
    "        response: Response object from the ApplyGuardrail API.\n",
    "    \"\"\"\n",
    "    if not response:\n",
    "        print(\"No response to process.\")\n",
    "        return\n",
    "\n",
    "    # Check the action taken by the guardrail\n",
    "    if response.get('action') == 'GUARDRAIL_INTERVENED':\n",
    "        print(\"\\nGuardrail intervened. Output:\")\n",
    "        for output in response.get('outputs', []):\n",
    "            print(output.get('text', 'No output text available'))\n",
    "    else:\n",
    "        print(\"\\nGuardrail did not intervene.\")"
   ]
  },
  {
   "cell_type": "markdown",
   "id": "fd5559ea-0ee3-4129-9b5d-235431117132",
   "metadata": {},
   "source": [
    "# Test and monitor the guardrail during prompt interactions."
   ]
  },
  {
   "cell_type": "code",
   "execution_count": null,
   "id": "9cb93f22-ab6b-4e63-a62e-329c82361a3e",
   "metadata": {
    "tags": []
   },
   "outputs": [],
   "source": [
    "# Define content to be analyzed\n",
    "content = [\n",
    "        {\n",
    "            \"text\": {\n",
    "                \"text\": \"Provide investment guidance. My email address is xxxxxx@xxx.com\"\n",
    "            }\n",
    "        }\n",
    "    ]\n",
    "    \n",
    "    \n",
    "# Apply guardrail and process response\n",
    "response = apply_guardrail(boto3_bedrock_runtime_client, guardrail_id, guardrail_version, content, source='INPUT')"
   ]
  },
  {
   "cell_type": "markdown",
   "id": "2cea52e6-8906-4416-9e62-a2dc987c465b",
   "metadata": {},
   "source": [
    "### Print response for detail monitoring purpose"
   ]
  },
  {
   "cell_type": "code",
   "execution_count": null,
   "id": "2ad7198b-3941-40d9-accf-e9429addf7cf",
   "metadata": {
    "tags": []
   },
   "outputs": [],
   "source": [
    "print(\"API Response:\")\n",
    "print(json.dumps(response, indent=2))\n",
    "print()"
   ]
  },
  {
   "cell_type": "markdown",
   "id": "8febfd3d-998c-4161-8965-9330ed1daa52",
   "metadata": {},
   "source": [
    "### Print response for guardrail output"
   ]
  },
  {
   "cell_type": "code",
   "execution_count": null,
   "id": "82648143-4768-4222-adf2-93206d928bac",
   "metadata": {
    "tags": []
   },
   "outputs": [],
   "source": [
    "process_guardrail_response(response)"
   ]
  },
  {
   "cell_type": "markdown",
   "id": "20c0eb5d-dc79-4454-9be9-dc3484e7c093",
   "metadata": {},
   "source": [
    "# Test and monitor the guardrail during response handling."
   ]
  },
  {
   "cell_type": "code",
   "execution_count": null,
   "id": "45afeae3-fe4b-4013-be5f-3c5548532d23",
   "metadata": {
    "tags": []
   },
   "outputs": [],
   "source": [
    "# Define content to be analyzed\n",
    "content = [\n",
    "    {\n",
    "        \"text\": {\n",
    "            \"text\": \"How should I invest for long term? I want to be able to generate $10,000 a month\",\n",
    "            \"qualifiers\": [\"grounding_source\"],\n",
    "        }\n",
    "    },\n",
    "    {\n",
    "        \"text\": {\n",
    "            \"text\": \"What is the Guaranteed return rate of bitcoins?\",\n",
    "            \"qualifiers\": [\"query\"],\n",
    "        }\n",
    "    },\n",
    "    {\n",
    "        \"text\": {\n",
    "            \"text\": \"Guaranteed Rate is 7% for real estate investment at USA.\",\n",
    "            \"qualifiers\": [\"guard_content\"],\n",
    "        }\n",
    "    },\n",
    "]\n",
    "    \n",
    "# Apply guardrail and process response\n",
    "response = apply_guardrail(boto3_bedrock_runtime_client, guardrail_id, guardrail_version, content, source='OUTPUT')"
   ]
  },
  {
   "cell_type": "markdown",
   "id": "53ec904d-9ebe-45e4-84e8-12d61e91b376",
   "metadata": {},
   "source": [
    "### Print response for detail monitoring purpose"
   ]
  },
  {
   "cell_type": "code",
   "execution_count": null,
   "id": "dfcd6e34-b546-476d-b362-1cf7733a19b6",
   "metadata": {
    "tags": []
   },
   "outputs": [],
   "source": [
    "print(\"API Response:\")\n",
    "print(json.dumps(response, indent=2))\n",
    "print()"
   ]
  },
  {
   "cell_type": "markdown",
   "id": "5b1e2e6c-8c8b-4c8c-9937-13810c5d83ee",
   "metadata": {},
   "source": [
    "### Print response for guardrail output"
   ]
  },
  {
   "cell_type": "code",
   "execution_count": null,
   "id": "b5265036-9e5d-4e5f-87fc-c0c3da46fd83",
   "metadata": {
    "tags": []
   },
   "outputs": [],
   "source": [
    "process_guardrail_response(response)"
   ]
  },
  {
   "cell_type": "markdown",
   "id": "d93cf667-7837-4b69-ba93-6dd1d9d27157",
   "metadata": {
    "tags": []
   },
   "source": [
    "# Execute and monitor the complete guardrail policy.\n",
    "\n",
    "\n",
    "###### <ins>create_payload(model_id, anthropic_version, messages)</ins>:\n",
    "###### This function constructs a dictionary representing the payload required to make a request to the Bedrock model. It includes: The model ID.\n",
    "###### Content type and acceptance headers, both set to application/json.\n",
    "###### A body containing the anthropic version, a maximum token limit, and user messages formatted for the model.\n",
    "\n",
    "###### <ins>invoke_model(client, payload, guardrail_id)</ins>:\n",
    "###### This function takes a Boto3 client, the payload created by the create_payload function, and a guardrail ID as inputs. It performs the following:\n",
    "###### Converts the payload body to bytes.\n",
    "###### Invokes the model using the provided client with specified parameters, including the guardrail ID and version.\n",
    "###### Implements error handling to catch exceptions during the model invocation, printing an error message if an exception occurs. It returns the model's response or None if an error occurs.\n",
    "\n",
    "###### <ins>process_response(response)</ins>:\n",
    "###### This function processes and prints the response from the model invocation. It checks if the response is valid:\n",
    "###### If valid, it reads the response body, decodes it, and prints it in a formatted JSON structure.\n",
    "###### If no response is received, it prints a message indicating that no response was obtained."
   ]
  },
  {
   "cell_type": "code",
   "execution_count": null,
   "id": "1800a702-7e80-4af5-8c20-a875ac48a76f",
   "metadata": {
    "tags": []
   },
   "outputs": [],
   "source": [
    "def create_payload(model_id, anthropic_version, messages):\n",
    "    \"\"\"Create the payload for the Bedrock request.\"\"\"\n",
    "    return {\n",
    "        \"modelId\": model_id,\n",
    "        \"contentType\": \"application/json\",\n",
    "        \"accept\": \"application/json\",\n",
    "        \"body\": {\n",
    "            \"anthropic_version\": anthropic_version,\n",
    "            \"max_tokens\": 1000,\n",
    "            \"messages\": [\n",
    "                {\n",
    "                    \"role\": \"user\",\n",
    "                    \"content\": messages\n",
    "                }\n",
    "            ]\n",
    "        }\n",
    "    }\n",
    "\n",
    "def invoke_model(client, payload, guardrail_id,guardrail_version):\n",
    "    \"\"\"Invoke the model with the specified payload and guardrail.\"\"\"\n",
    "    try:\n",
    "        # Convert the payload body to bytes\n",
    "        body_bytes = json.dumps(payload['body']).encode('utf-8')\n",
    "\n",
    "        # Invoke the model\n",
    "        response = client.invoke_model(\n",
    "            body=body_bytes,\n",
    "            contentType=payload['contentType'],\n",
    "            accept=payload['accept'],\n",
    "            modelId=payload['modelId'],\n",
    "            guardrailIdentifier=guardrail_id,\n",
    "            guardrailVersion=guardrail_version,\n",
    "            trace=\"ENABLED\"\n",
    "        )\n",
    "        return response\n",
    "    except Exception as e:\n",
    "        print(f\"An error occurred while invoking the model: {str(e)}\")\n",
    "        return None\n",
    "\n",
    "def process_response(response):\n",
    "    \"\"\"Process and print the response from the model.\"\"\"\n",
    "    if response is not None:\n",
    "        response_body = response['body'].read().decode('utf-8')\n",
    "        print(json.dumps(json.loads(response_body), indent=2))\n",
    "    else:\n",
    "        print(\"No response received.\")"
   ]
  },
  {
   "cell_type": "code",
   "execution_count": null,
   "id": "e1c06840-f151-4176-8c55-3928bfe24bc7",
   "metadata": {
    "tags": []
   },
   "outputs": [],
   "source": [
    "# Main section execution\n",
    "bedrock_model_id = \"anthropic.claude-3-haiku-20240307-v1:0\"\n",
    "anthropic_version = \"bedrock-2023-05-31\"\n",
    "\n",
    "messages = [\n",
    "        {\n",
    "            \"type\": \"text\",\n",
    "            \"text\": \"How should I invest for long term? I want to be able to generate $10,000 a month\"\n",
    "        }\n",
    "    ]\n",
    "\n",
    "# Create the payload\n",
    "payload = create_payload(bedrock_model_id, anthropic_version, messages)\n",
    "\n",
    "# Invoke the model\n",
    "response = invoke_model(boto3_bedrock_runtime_client, payload, guardrail_id,guardrail_version)\n",
    "\n",
    "# Process and print the response\n",
    "process_response(response)"
   ]
  },
  {
   "cell_type": "markdown",
   "id": "d1b411ca-49b7-4c17-b19c-d9ff00d26b60",
   "metadata": {},
   "source": [
    "# End of NoteBook \n",
    "\n",
    "#### <ins>Step 1</ins> \n",
    "\n",
    "##### Please ensure that you close the kernel after using this notebook to avoid any potential charges to your account.\n",
    "\n",
    "##### Process: Go to \"Kernel\" at top option. Choose \"Shut Down Kernel\". \n",
    "##### Refer https://docs.aws.amazon.com/sagemaker/latest/dg/studio-ui.html\n",
    "\n",
    "\n",
    "#### <ins>Step 2</ins> \n",
    "\n",
    "#### If you are not executing any further lab of this Chapter 8\n",
    "##### Uncomment and execute the below code to delete the guardrails"
   ]
  },
  {
   "cell_type": "code",
   "execution_count": null,
   "id": "dca85e69-9e7d-4591-9110-ba358e3b47cd",
   "metadata": {
    "tags": []
   },
   "outputs": [],
   "source": [
    "'''\n",
    "try:\n",
    "    # Attempt to delete the guardrail using the specified identifier\n",
    "    response = boto3_bedrock_client.delete_guardrail(\n",
    "        guardrailIdentifier=guardrail_id\n",
    "    )\n",
    "    # Log or print a success message if the deletion is successful\n",
    "    print(f\"Guardrail with ID '{guardrail_id}' deleted successfully.\")\n",
    "    # Optionally, handle the response object if needed\n",
    "    print(response)\n",
    "\n",
    "except ClientError as e:\n",
    "    # Handle client-side errors (e.g., invalid parameters, resource not found)\n",
    "    print(f\"ClientError occurred: {e.response['Error']['Message']}\")\n",
    "\n",
    "except BotoCoreError as e:\n",
    "    # Handle broader BotoCore errors (e.g., network issues, general SDK errors)\n",
    "    print(f\"BotoCoreError occurred: {str(e)}\")\n",
    "\n",
    "except Exception as e:\n",
    "    # Handle any unexpected errors not covered by specific exceptions\n",
    "    print(f\"An unexpected error occurred: {str(e)}\")\n",
    "'''"
   ]
  },
  {
   "cell_type": "code",
   "execution_count": null,
   "id": "bdd2a004-c7a1-4a69-9e4f-bbdde85c3ebc",
   "metadata": {},
   "outputs": [],
   "source": []
  }
 ],
 "metadata": {
  "availableInstances": [
   {
    "_defaultOrder": 0,
    "_isFastLaunch": true,
    "category": "General purpose",
    "gpuNum": 0,
    "hideHardwareSpecs": false,
    "memoryGiB": 4,
    "name": "ml.t3.medium",
    "vcpuNum": 2
   },
   {
    "_defaultOrder": 1,
    "_isFastLaunch": false,
    "category": "General purpose",
    "gpuNum": 0,
    "hideHardwareSpecs": false,
    "memoryGiB": 8,
    "name": "ml.t3.large",
    "vcpuNum": 2
   },
   {
    "_defaultOrder": 2,
    "_isFastLaunch": false,
    "category": "General purpose",
    "gpuNum": 0,
    "hideHardwareSpecs": false,
    "memoryGiB": 16,
    "name": "ml.t3.xlarge",
    "vcpuNum": 4
   },
   {
    "_defaultOrder": 3,
    "_isFastLaunch": false,
    "category": "General purpose",
    "gpuNum": 0,
    "hideHardwareSpecs": false,
    "memoryGiB": 32,
    "name": "ml.t3.2xlarge",
    "vcpuNum": 8
   },
   {
    "_defaultOrder": 4,
    "_isFastLaunch": true,
    "category": "General purpose",
    "gpuNum": 0,
    "hideHardwareSpecs": false,
    "memoryGiB": 8,
    "name": "ml.m5.large",
    "vcpuNum": 2
   },
   {
    "_defaultOrder": 5,
    "_isFastLaunch": false,
    "category": "General purpose",
    "gpuNum": 0,
    "hideHardwareSpecs": false,
    "memoryGiB": 16,
    "name": "ml.m5.xlarge",
    "vcpuNum": 4
   },
   {
    "_defaultOrder": 6,
    "_isFastLaunch": false,
    "category": "General purpose",
    "gpuNum": 0,
    "hideHardwareSpecs": false,
    "memoryGiB": 32,
    "name": "ml.m5.2xlarge",
    "vcpuNum": 8
   },
   {
    "_defaultOrder": 7,
    "_isFastLaunch": false,
    "category": "General purpose",
    "gpuNum": 0,
    "hideHardwareSpecs": false,
    "memoryGiB": 64,
    "name": "ml.m5.4xlarge",
    "vcpuNum": 16
   },
   {
    "_defaultOrder": 8,
    "_isFastLaunch": false,
    "category": "General purpose",
    "gpuNum": 0,
    "hideHardwareSpecs": false,
    "memoryGiB": 128,
    "name": "ml.m5.8xlarge",
    "vcpuNum": 32
   },
   {
    "_defaultOrder": 9,
    "_isFastLaunch": false,
    "category": "General purpose",
    "gpuNum": 0,
    "hideHardwareSpecs": false,
    "memoryGiB": 192,
    "name": "ml.m5.12xlarge",
    "vcpuNum": 48
   },
   {
    "_defaultOrder": 10,
    "_isFastLaunch": false,
    "category": "General purpose",
    "gpuNum": 0,
    "hideHardwareSpecs": false,
    "memoryGiB": 256,
    "name": "ml.m5.16xlarge",
    "vcpuNum": 64
   },
   {
    "_defaultOrder": 11,
    "_isFastLaunch": false,
    "category": "General purpose",
    "gpuNum": 0,
    "hideHardwareSpecs": false,
    "memoryGiB": 384,
    "name": "ml.m5.24xlarge",
    "vcpuNum": 96
   },
   {
    "_defaultOrder": 12,
    "_isFastLaunch": false,
    "category": "General purpose",
    "gpuNum": 0,
    "hideHardwareSpecs": false,
    "memoryGiB": 8,
    "name": "ml.m5d.large",
    "vcpuNum": 2
   },
   {
    "_defaultOrder": 13,
    "_isFastLaunch": false,
    "category": "General purpose",
    "gpuNum": 0,
    "hideHardwareSpecs": false,
    "memoryGiB": 16,
    "name": "ml.m5d.xlarge",
    "vcpuNum": 4
   },
   {
    "_defaultOrder": 14,
    "_isFastLaunch": false,
    "category": "General purpose",
    "gpuNum": 0,
    "hideHardwareSpecs": false,
    "memoryGiB": 32,
    "name": "ml.m5d.2xlarge",
    "vcpuNum": 8
   },
   {
    "_defaultOrder": 15,
    "_isFastLaunch": false,
    "category": "General purpose",
    "gpuNum": 0,
    "hideHardwareSpecs": false,
    "memoryGiB": 64,
    "name": "ml.m5d.4xlarge",
    "vcpuNum": 16
   },
   {
    "_defaultOrder": 16,
    "_isFastLaunch": false,
    "category": "General purpose",
    "gpuNum": 0,
    "hideHardwareSpecs": false,
    "memoryGiB": 128,
    "name": "ml.m5d.8xlarge",
    "vcpuNum": 32
   },
   {
    "_defaultOrder": 17,
    "_isFastLaunch": false,
    "category": "General purpose",
    "gpuNum": 0,
    "hideHardwareSpecs": false,
    "memoryGiB": 192,
    "name": "ml.m5d.12xlarge",
    "vcpuNum": 48
   },
   {
    "_defaultOrder": 18,
    "_isFastLaunch": false,
    "category": "General purpose",
    "gpuNum": 0,
    "hideHardwareSpecs": false,
    "memoryGiB": 256,
    "name": "ml.m5d.16xlarge",
    "vcpuNum": 64
   },
   {
    "_defaultOrder": 19,
    "_isFastLaunch": false,
    "category": "General purpose",
    "gpuNum": 0,
    "hideHardwareSpecs": false,
    "memoryGiB": 384,
    "name": "ml.m5d.24xlarge",
    "vcpuNum": 96
   },
   {
    "_defaultOrder": 20,
    "_isFastLaunch": false,
    "category": "General purpose",
    "gpuNum": 0,
    "hideHardwareSpecs": true,
    "memoryGiB": 0,
    "name": "ml.geospatial.interactive",
    "supportedImageNames": [
     "sagemaker-geospatial-v1-0"
    ],
    "vcpuNum": 0
   },
   {
    "_defaultOrder": 21,
    "_isFastLaunch": true,
    "category": "Compute optimized",
    "gpuNum": 0,
    "hideHardwareSpecs": false,
    "memoryGiB": 4,
    "name": "ml.c5.large",
    "vcpuNum": 2
   },
   {
    "_defaultOrder": 22,
    "_isFastLaunch": false,
    "category": "Compute optimized",
    "gpuNum": 0,
    "hideHardwareSpecs": false,
    "memoryGiB": 8,
    "name": "ml.c5.xlarge",
    "vcpuNum": 4
   },
   {
    "_defaultOrder": 23,
    "_isFastLaunch": false,
    "category": "Compute optimized",
    "gpuNum": 0,
    "hideHardwareSpecs": false,
    "memoryGiB": 16,
    "name": "ml.c5.2xlarge",
    "vcpuNum": 8
   },
   {
    "_defaultOrder": 24,
    "_isFastLaunch": false,
    "category": "Compute optimized",
    "gpuNum": 0,
    "hideHardwareSpecs": false,
    "memoryGiB": 32,
    "name": "ml.c5.4xlarge",
    "vcpuNum": 16
   },
   {
    "_defaultOrder": 25,
    "_isFastLaunch": false,
    "category": "Compute optimized",
    "gpuNum": 0,
    "hideHardwareSpecs": false,
    "memoryGiB": 72,
    "name": "ml.c5.9xlarge",
    "vcpuNum": 36
   },
   {
    "_defaultOrder": 26,
    "_isFastLaunch": false,
    "category": "Compute optimized",
    "gpuNum": 0,
    "hideHardwareSpecs": false,
    "memoryGiB": 96,
    "name": "ml.c5.12xlarge",
    "vcpuNum": 48
   },
   {
    "_defaultOrder": 27,
    "_isFastLaunch": false,
    "category": "Compute optimized",
    "gpuNum": 0,
    "hideHardwareSpecs": false,
    "memoryGiB": 144,
    "name": "ml.c5.18xlarge",
    "vcpuNum": 72
   },
   {
    "_defaultOrder": 28,
    "_isFastLaunch": false,
    "category": "Compute optimized",
    "gpuNum": 0,
    "hideHardwareSpecs": false,
    "memoryGiB": 192,
    "name": "ml.c5.24xlarge",
    "vcpuNum": 96
   },
   {
    "_defaultOrder": 29,
    "_isFastLaunch": true,
    "category": "Accelerated computing",
    "gpuNum": 1,
    "hideHardwareSpecs": false,
    "memoryGiB": 16,
    "name": "ml.g4dn.xlarge",
    "vcpuNum": 4
   },
   {
    "_defaultOrder": 30,
    "_isFastLaunch": false,
    "category": "Accelerated computing",
    "gpuNum": 1,
    "hideHardwareSpecs": false,
    "memoryGiB": 32,
    "name": "ml.g4dn.2xlarge",
    "vcpuNum": 8
   },
   {
    "_defaultOrder": 31,
    "_isFastLaunch": false,
    "category": "Accelerated computing",
    "gpuNum": 1,
    "hideHardwareSpecs": false,
    "memoryGiB": 64,
    "name": "ml.g4dn.4xlarge",
    "vcpuNum": 16
   },
   {
    "_defaultOrder": 32,
    "_isFastLaunch": false,
    "category": "Accelerated computing",
    "gpuNum": 1,
    "hideHardwareSpecs": false,
    "memoryGiB": 128,
    "name": "ml.g4dn.8xlarge",
    "vcpuNum": 32
   },
   {
    "_defaultOrder": 33,
    "_isFastLaunch": false,
    "category": "Accelerated computing",
    "gpuNum": 4,
    "hideHardwareSpecs": false,
    "memoryGiB": 192,
    "name": "ml.g4dn.12xlarge",
    "vcpuNum": 48
   },
   {
    "_defaultOrder": 34,
    "_isFastLaunch": false,
    "category": "Accelerated computing",
    "gpuNum": 1,
    "hideHardwareSpecs": false,
    "memoryGiB": 256,
    "name": "ml.g4dn.16xlarge",
    "vcpuNum": 64
   },
   {
    "_defaultOrder": 35,
    "_isFastLaunch": false,
    "category": "Accelerated computing",
    "gpuNum": 1,
    "hideHardwareSpecs": false,
    "memoryGiB": 61,
    "name": "ml.p3.2xlarge",
    "vcpuNum": 8
   },
   {
    "_defaultOrder": 36,
    "_isFastLaunch": false,
    "category": "Accelerated computing",
    "gpuNum": 4,
    "hideHardwareSpecs": false,
    "memoryGiB": 244,
    "name": "ml.p3.8xlarge",
    "vcpuNum": 32
   },
   {
    "_defaultOrder": 37,
    "_isFastLaunch": false,
    "category": "Accelerated computing",
    "gpuNum": 8,
    "hideHardwareSpecs": false,
    "memoryGiB": 488,
    "name": "ml.p3.16xlarge",
    "vcpuNum": 64
   },
   {
    "_defaultOrder": 38,
    "_isFastLaunch": false,
    "category": "Accelerated computing",
    "gpuNum": 8,
    "hideHardwareSpecs": false,
    "memoryGiB": 768,
    "name": "ml.p3dn.24xlarge",
    "vcpuNum": 96
   },
   {
    "_defaultOrder": 39,
    "_isFastLaunch": false,
    "category": "Memory Optimized",
    "gpuNum": 0,
    "hideHardwareSpecs": false,
    "memoryGiB": 16,
    "name": "ml.r5.large",
    "vcpuNum": 2
   },
   {
    "_defaultOrder": 40,
    "_isFastLaunch": false,
    "category": "Memory Optimized",
    "gpuNum": 0,
    "hideHardwareSpecs": false,
    "memoryGiB": 32,
    "name": "ml.r5.xlarge",
    "vcpuNum": 4
   },
   {
    "_defaultOrder": 41,
    "_isFastLaunch": false,
    "category": "Memory Optimized",
    "gpuNum": 0,
    "hideHardwareSpecs": false,
    "memoryGiB": 64,
    "name": "ml.r5.2xlarge",
    "vcpuNum": 8
   },
   {
    "_defaultOrder": 42,
    "_isFastLaunch": false,
    "category": "Memory Optimized",
    "gpuNum": 0,
    "hideHardwareSpecs": false,
    "memoryGiB": 128,
    "name": "ml.r5.4xlarge",
    "vcpuNum": 16
   },
   {
    "_defaultOrder": 43,
    "_isFastLaunch": false,
    "category": "Memory Optimized",
    "gpuNum": 0,
    "hideHardwareSpecs": false,
    "memoryGiB": 256,
    "name": "ml.r5.8xlarge",
    "vcpuNum": 32
   },
   {
    "_defaultOrder": 44,
    "_isFastLaunch": false,
    "category": "Memory Optimized",
    "gpuNum": 0,
    "hideHardwareSpecs": false,
    "memoryGiB": 384,
    "name": "ml.r5.12xlarge",
    "vcpuNum": 48
   },
   {
    "_defaultOrder": 45,
    "_isFastLaunch": false,
    "category": "Memory Optimized",
    "gpuNum": 0,
    "hideHardwareSpecs": false,
    "memoryGiB": 512,
    "name": "ml.r5.16xlarge",
    "vcpuNum": 64
   },
   {
    "_defaultOrder": 46,
    "_isFastLaunch": false,
    "category": "Memory Optimized",
    "gpuNum": 0,
    "hideHardwareSpecs": false,
    "memoryGiB": 768,
    "name": "ml.r5.24xlarge",
    "vcpuNum": 96
   },
   {
    "_defaultOrder": 47,
    "_isFastLaunch": false,
    "category": "Accelerated computing",
    "gpuNum": 1,
    "hideHardwareSpecs": false,
    "memoryGiB": 16,
    "name": "ml.g5.xlarge",
    "vcpuNum": 4
   },
   {
    "_defaultOrder": 48,
    "_isFastLaunch": false,
    "category": "Accelerated computing",
    "gpuNum": 1,
    "hideHardwareSpecs": false,
    "memoryGiB": 32,
    "name": "ml.g5.2xlarge",
    "vcpuNum": 8
   },
   {
    "_defaultOrder": 49,
    "_isFastLaunch": false,
    "category": "Accelerated computing",
    "gpuNum": 1,
    "hideHardwareSpecs": false,
    "memoryGiB": 64,
    "name": "ml.g5.4xlarge",
    "vcpuNum": 16
   },
   {
    "_defaultOrder": 50,
    "_isFastLaunch": false,
    "category": "Accelerated computing",
    "gpuNum": 1,
    "hideHardwareSpecs": false,
    "memoryGiB": 128,
    "name": "ml.g5.8xlarge",
    "vcpuNum": 32
   },
   {
    "_defaultOrder": 51,
    "_isFastLaunch": false,
    "category": "Accelerated computing",
    "gpuNum": 1,
    "hideHardwareSpecs": false,
    "memoryGiB": 256,
    "name": "ml.g5.16xlarge",
    "vcpuNum": 64
   },
   {
    "_defaultOrder": 52,
    "_isFastLaunch": false,
    "category": "Accelerated computing",
    "gpuNum": 4,
    "hideHardwareSpecs": false,
    "memoryGiB": 192,
    "name": "ml.g5.12xlarge",
    "vcpuNum": 48
   },
   {
    "_defaultOrder": 53,
    "_isFastLaunch": false,
    "category": "Accelerated computing",
    "gpuNum": 4,
    "hideHardwareSpecs": false,
    "memoryGiB": 384,
    "name": "ml.g5.24xlarge",
    "vcpuNum": 96
   },
   {
    "_defaultOrder": 54,
    "_isFastLaunch": false,
    "category": "Accelerated computing",
    "gpuNum": 8,
    "hideHardwareSpecs": false,
    "memoryGiB": 768,
    "name": "ml.g5.48xlarge",
    "vcpuNum": 192
   },
   {
    "_defaultOrder": 55,
    "_isFastLaunch": false,
    "category": "Accelerated computing",
    "gpuNum": 8,
    "hideHardwareSpecs": false,
    "memoryGiB": 1152,
    "name": "ml.p4d.24xlarge",
    "vcpuNum": 96
   },
   {
    "_defaultOrder": 56,
    "_isFastLaunch": false,
    "category": "Accelerated computing",
    "gpuNum": 8,
    "hideHardwareSpecs": false,
    "memoryGiB": 1152,
    "name": "ml.p4de.24xlarge",
    "vcpuNum": 96
   },
   {
    "_defaultOrder": 57,
    "_isFastLaunch": false,
    "category": "Accelerated computing",
    "gpuNum": 0,
    "hideHardwareSpecs": false,
    "memoryGiB": 32,
    "name": "ml.trn1.2xlarge",
    "vcpuNum": 8
   },
   {
    "_defaultOrder": 58,
    "_isFastLaunch": false,
    "category": "Accelerated computing",
    "gpuNum": 0,
    "hideHardwareSpecs": false,
    "memoryGiB": 512,
    "name": "ml.trn1.32xlarge",
    "vcpuNum": 128
   },
   {
    "_defaultOrder": 59,
    "_isFastLaunch": false,
    "category": "Accelerated computing",
    "gpuNum": 0,
    "hideHardwareSpecs": false,
    "memoryGiB": 512,
    "name": "ml.trn1n.32xlarge",
    "vcpuNum": 128
   }
  ],
  "instance_type": "ml.t3.medium",
  "kernelspec": {
   "display_name": "Python 3 (Data Science 3.0)",
   "language": "python",
   "name": "python3__SAGEMAKER_INTERNAL__arn:aws:sagemaker:us-east-1:081325390199:image/sagemaker-data-science-310-v1"
  },
  "language_info": {
   "codemirror_mode": {
    "name": "ipython",
    "version": 3
   },
   "file_extension": ".py",
   "mimetype": "text/x-python",
   "name": "python",
   "nbconvert_exporter": "python",
   "pygments_lexer": "ipython3",
   "version": "3.10.6"
  }
 },
 "nbformat": 4,
 "nbformat_minor": 5
}
